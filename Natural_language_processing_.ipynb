{
  "nbformat": 4,
  "nbformat_minor": 0,
  "metadata": {
    "colab": {
      "name": "Natural language processing .ipynb",
      "provenance": [],
      "toc_visible": true,
      "authorship_tag": "ABX9TyPsIkO1s6YjVFjukwdBZnUJ",
      "include_colab_link": true
    },
    "kernelspec": {
      "name": "python3",
      "display_name": "Python 3"
    },
    "language_info": {
      "name": "python"
    }
  },
  "cells": [
    {
      "cell_type": "markdown",
      "metadata": {
        "id": "view-in-github",
        "colab_type": "text"
      },
      "source": [
        "<a href=\"https://colab.research.google.com/github/hussain0048/C-Plus-Plus/blob/master/Natural_language_processing_.ipynb\" target=\"_parent\"><img src=\"https://colab.research.google.com/assets/colab-badge.svg\" alt=\"Open In Colab\"/></a>"
      ]
    },
    {
      "cell_type": "code",
      "execution_count": null,
      "metadata": {
        "id": "Kop4cJEVu4Fb"
      },
      "outputs": [],
      "source": [
        ""
      ]
    },
    {
      "cell_type": "markdown",
      "source": [
        "# **Introduction**"
      ],
      "metadata": {
        "id": "_GmNMLY7vKuz"
      }
    },
    {
      "cell_type": "markdown",
      "source": [
        "# **Regular expressions**"
      ],
      "metadata": {
        "id": "G5EqsZB-va8p"
      }
    },
    {
      "cell_type": "code",
      "source": [
        "import re"
      ],
      "metadata": {
        "id": "4jYWJWIwvjfY"
      },
      "execution_count": 1,
      "outputs": []
    },
    {
      "cell_type": "code",
      "source": [
        "re.match('abc', 'abcdef')"
      ],
      "metadata": {
        "id": "lbSpf-oMwGXa"
      },
      "execution_count": 4,
      "outputs": []
    },
    {
      "cell_type": "code",
      "source": [
        "word_regex = '\\w+'\n",
        "re.match(word_regex, 'hi there')"
      ],
      "metadata": {
        "id": "Ahtq7XHVwTTJ"
      },
      "execution_count": null,
      "outputs": []
    },
    {
      "cell_type": "markdown",
      "source": [
        "# **References**"
      ],
      "metadata": {
        "id": "PT-WqxVHvFSz"
      }
    }
  ]
}