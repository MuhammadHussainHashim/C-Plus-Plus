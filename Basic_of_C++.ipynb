{
  "nbformat": 4,
  "nbformat_minor": 0,
  "metadata": {
    "colab": {
      "name": "Basic of C++.ipynb",
      "provenance": [],
      "toc_visible": true,
      "gpuType": "T4",
      "include_colab_link": true
    },
    "kernelspec": {
      "name": "python3",
      "display_name": "Python 3"
    },
    "accelerator": "GPU"
  },
  "cells": [
    {
      "cell_type": "markdown",
      "metadata": {
        "id": "view-in-github",
        "colab_type": "text"
      },
      "source": [
        "<a href=\"https://colab.research.google.com/github/MuhammadHussainHashim/C-Plus-Plus/blob/master/Basic_of_C%2B%2B.ipynb\" target=\"_parent\"><img src=\"https://colab.research.google.com/assets/colab-badge.svg\" alt=\"Open In Colab\"/></a>"
      ]
    },
    {
      "cell_type": "markdown",
      "source": [
        "# **Table of Content**"
      ],
      "metadata": {
        "id": "4mBOY5WTJjTQ"
      }
    },
    {
      "cell_type": "markdown",
      "source": [
        "\n",
        "\n",
        "1.   Introductionm\n",
        "2.   List item\n"
      ],
      "metadata": {
        "id": "GQy5047KJqIp"
      }
    },
    {
      "cell_type": "markdown",
      "metadata": {
        "id": "3_8odoHmArJr"
      },
      "source": [
        "#**Introduction**\n",
        "\n",
        "---\n",
        "\n",
        "### 🔹 **Introduction to C++**\n",
        "\n",
        "* **C++** is a powerful, general-purpose programming language used to build high-performance software across various platforms.\n",
        "\n",
        "* It is a **compiled language**, meaning the code is converted into machine code before execution, resulting in fast and efficient programs.\n",
        "\n",
        "* C++ is considered an **intermediate-level language** because it supports both **low-level programming** (like C) and **high-level features** such as object-oriented programming.\n",
        "\n",
        "* It supports multiple programming paradigms:\n",
        "\n",
        "  * **Imperative programming** (step-by-step instructions)\n",
        "  * **Object-oriented programming** (using classes and objects)\n",
        "  * **Generic programming** (using templates for reusable code)\n",
        "\n",
        "* **Cross-platform compatibility** allows C++ programs to run on various operating systems and hardware with minimal changes.\n",
        "\n",
        "* C++ is widely used in:\n",
        "\n",
        "  * **System software** (e.g., operating systems)\n",
        "  * **Application software**\n",
        "  * **Embedded systems**\n",
        "  * **Device drivers**\n",
        "  * **Video games**\n",
        "  * **High-performance server and client applications**\n",
        "\n",
        "* Developed by **Bjarne Stroustrup** in the early 1980s, C++ was created as an enhancement to the C language, adding object-oriented capabilities.\n",
        "\n",
        "* Several major organizations provide **C++ compilers**, both open-source and proprietary, including:\n",
        "\n",
        "  * **GCC** (Free Software Foundation)\n",
        "  * **Clang** (LLVM)\n",
        "  * **Microsoft Visual C++**\n",
        "  * **Intel C++ Compiler**\n",
        "\n",
        "* C++ remains one of the most widely used and respected programming languages due to its **performance**, **flexibility**, and **extensive real-world applications**.\n",
        "\n"
      ]
    },
    {
      "cell_type": "markdown",
      "source": [
        "#**Quiz**"
      ],
      "metadata": {
        "id": "hkTa3HX2k-vV"
      }
    },
    {
      "cell_type": "code",
      "source": [
        "# @title Default title text\n",
        "# Simple C++ Quiz in Google Colab\n",
        "score = 0\n",
        "\n",
        "print(\"Welcome to the C++ Introduction Quiz!\\n\")\n",
        "\n",
        "q1 = input(\"Q1: Who developed the C++ programming language?\\n(a) Dennis Ritchie\\n(b) Bjarne Stroustrup\\n(c) James Gosling\\nYour answer: \")\n",
        "if q1.lower() == \"b\":\n",
        "    score += 1\n",
        "\n",
        "q2 = input(\"\\nQ2: What level of programming language is C++ considered?\\n(a) Low-level\\n(b) Intermediate-level\\n(c) High-level\\nYour answer: \")\n",
        "if q2.lower() == \"b\":\n",
        "    score += 1\n",
        "\n",
        "q3 = input(\"\\nQ3: What is the advantage of C++ being a compiled language?\\n(a) It runs line-by-line\\n(b) It executes faster\\n(c) It doesn’t need a compiler\\nYour answer: \")\n",
        "if q3.lower() == \"b\":\n",
        "    score += 1\n",
        "\n",
        "q4 = input(\"\\nQ4: Which of these is NOT a programming paradigm supported by C++?\\n(a) Object-oriented programming\\n(b) Generic programming\\n(c) Functional programming\\nYour answer: \")\n",
        "if q4.lower() == \"c\":\n",
        "    score += 1\n",
        "\n",
        "q5 = input(\"\\nQ5: Which compiler is provided by the Free Software Foundation?\\n(a) Clang\\n(b) GCC\\n(c) Intel C++ Compiler\\nYour answer: \")\n",
        "if q5.lower() == \"b\":\n",
        "    score += 1\n",
        "\n",
        "print(f\"\\nYour final score is {score}/5 🎉\")\n"
      ],
      "metadata": {
        "cellView": "form",
        "collapsed": true,
        "id": "8yGWyk6ylByU",
        "outputId": "303c60c8-1f3e-438a-f8cb-61259c3ceebf",
        "colab": {
          "base_uri": "https://localhost:8080/",
          "height": 412
        }
      },
      "execution_count": null,
      "outputs": [
        {
          "output_type": "stream",
          "name": "stdout",
          "text": [
            "Welcome to the C++ Introduction Quiz!\n",
            "\n"
          ]
        },
        {
          "output_type": "error",
          "ename": "KeyboardInterrupt",
          "evalue": "Interrupted by user",
          "traceback": [
            "\u001b[0;31m---------------------------------------------------------------------------\u001b[0m",
            "\u001b[0;31mKeyboardInterrupt\u001b[0m                         Traceback (most recent call last)",
            "\u001b[0;32m/tmp/ipython-input-2717693678.py\u001b[0m in \u001b[0;36m<cell line: 0>\u001b[0;34m()\u001b[0m\n\u001b[1;32m      5\u001b[0m \u001b[0mprint\u001b[0m\u001b[0;34m(\u001b[0m\u001b[0;34m\"Welcome to the C++ Introduction Quiz!\\n\"\u001b[0m\u001b[0;34m)\u001b[0m\u001b[0;34m\u001b[0m\u001b[0;34m\u001b[0m\u001b[0m\n\u001b[1;32m      6\u001b[0m \u001b[0;34m\u001b[0m\u001b[0m\n\u001b[0;32m----> 7\u001b[0;31m \u001b[0mq1\u001b[0m \u001b[0;34m=\u001b[0m \u001b[0minput\u001b[0m\u001b[0;34m(\u001b[0m\u001b[0;34m\"Q1: Who developed the C++ programming language?\\n(a) Dennis Ritchie\\n(b) Bjarne Stroustrup\\n(c) James Gosling\\nYour answer: \"\u001b[0m\u001b[0;34m)\u001b[0m\u001b[0;34m\u001b[0m\u001b[0;34m\u001b[0m\u001b[0m\n\u001b[0m\u001b[1;32m      8\u001b[0m \u001b[0;32mif\u001b[0m \u001b[0mq1\u001b[0m\u001b[0;34m.\u001b[0m\u001b[0mlower\u001b[0m\u001b[0;34m(\u001b[0m\u001b[0;34m)\u001b[0m \u001b[0;34m==\u001b[0m \u001b[0;34m\"b\"\u001b[0m\u001b[0;34m:\u001b[0m\u001b[0;34m\u001b[0m\u001b[0;34m\u001b[0m\u001b[0m\n\u001b[1;32m      9\u001b[0m     \u001b[0mscore\u001b[0m \u001b[0;34m+=\u001b[0m \u001b[0;36m1\u001b[0m\u001b[0;34m\u001b[0m\u001b[0;34m\u001b[0m\u001b[0m\n",
            "\u001b[0;32m/usr/local/lib/python3.12/dist-packages/ipykernel/kernelbase.py\u001b[0m in \u001b[0;36mraw_input\u001b[0;34m(self, prompt)\u001b[0m\n\u001b[1;32m   1175\u001b[0m                 \u001b[0;34m\"raw_input was called, but this frontend does not support input requests.\"\u001b[0m\u001b[0;34m\u001b[0m\u001b[0;34m\u001b[0m\u001b[0m\n\u001b[1;32m   1176\u001b[0m             )\n\u001b[0;32m-> 1177\u001b[0;31m         return self._input_request(\n\u001b[0m\u001b[1;32m   1178\u001b[0m             \u001b[0mstr\u001b[0m\u001b[0;34m(\u001b[0m\u001b[0mprompt\u001b[0m\u001b[0;34m)\u001b[0m\u001b[0;34m,\u001b[0m\u001b[0;34m\u001b[0m\u001b[0;34m\u001b[0m\u001b[0m\n\u001b[1;32m   1179\u001b[0m             \u001b[0mself\u001b[0m\u001b[0;34m.\u001b[0m\u001b[0m_parent_ident\u001b[0m\u001b[0;34m[\u001b[0m\u001b[0;34m\"shell\"\u001b[0m\u001b[0;34m]\u001b[0m\u001b[0;34m,\u001b[0m\u001b[0;34m\u001b[0m\u001b[0;34m\u001b[0m\u001b[0m\n",
            "\u001b[0;32m/usr/local/lib/python3.12/dist-packages/ipykernel/kernelbase.py\u001b[0m in \u001b[0;36m_input_request\u001b[0;34m(self, prompt, ident, parent, password)\u001b[0m\n\u001b[1;32m   1217\u001b[0m             \u001b[0;32mexcept\u001b[0m \u001b[0mKeyboardInterrupt\u001b[0m\u001b[0;34m:\u001b[0m\u001b[0;34m\u001b[0m\u001b[0;34m\u001b[0m\u001b[0m\n\u001b[1;32m   1218\u001b[0m                 \u001b[0;31m# re-raise KeyboardInterrupt, to truncate traceback\u001b[0m\u001b[0;34m\u001b[0m\u001b[0;34m\u001b[0m\u001b[0m\n\u001b[0;32m-> 1219\u001b[0;31m                 \u001b[0;32mraise\u001b[0m \u001b[0mKeyboardInterrupt\u001b[0m\u001b[0;34m(\u001b[0m\u001b[0;34m\"Interrupted by user\"\u001b[0m\u001b[0;34m)\u001b[0m \u001b[0;32mfrom\u001b[0m \u001b[0;32mNone\u001b[0m\u001b[0;34m\u001b[0m\u001b[0;34m\u001b[0m\u001b[0m\n\u001b[0m\u001b[1;32m   1220\u001b[0m             \u001b[0;32mexcept\u001b[0m \u001b[0mException\u001b[0m\u001b[0;34m:\u001b[0m\u001b[0;34m\u001b[0m\u001b[0;34m\u001b[0m\u001b[0m\n\u001b[1;32m   1221\u001b[0m                 \u001b[0mself\u001b[0m\u001b[0;34m.\u001b[0m\u001b[0mlog\u001b[0m\u001b[0;34m.\u001b[0m\u001b[0mwarning\u001b[0m\u001b[0;34m(\u001b[0m\u001b[0;34m\"Invalid Message:\"\u001b[0m\u001b[0;34m,\u001b[0m \u001b[0mexc_info\u001b[0m\u001b[0;34m=\u001b[0m\u001b[0;32mTrue\u001b[0m\u001b[0;34m)\u001b[0m\u001b[0;34m\u001b[0m\u001b[0;34m\u001b[0m\u001b[0m\n",
            "\u001b[0;31mKeyboardInterrupt\u001b[0m: Interrupted by user"
          ]
        }
      ]
    },
    {
      "cell_type": "markdown",
      "source": [
        "---\n",
        "\n",
        "### **Can C++ Run in Google Colab?**\n",
        "\n",
        "Although **Google Colab** is primarily designed for Python, it **can run C++ code** using the `g++` compiler through **Jupyter magic commands** or **Bash cells**.\n",
        "\n",
        "By using shell commands (prefixed with `!`) or code blocks with `%%writefile` and `!g++`, you can write, compile, and execute C++ programs directly in a Colab notebook.\n",
        "\n",
        "This allows you to:\n",
        "\n",
        "* Write C++ code inside the notebook\n",
        "* Compile it using `g++`\n",
        "* Run the executable and view the output in the same notebook\n",
        "\n",
        "It's a useful setup for learning, testing, or demonstrating C++ code without installing any software locally.\n",
        "\n",
        "---\n"
      ],
      "metadata": {
        "id": "GSQ9FwhzIObx"
      }
    },
    {
      "cell_type": "markdown",
      "source": [
        "#**Quiz**"
      ],
      "metadata": {
        "id": "OSlB563TlZcK"
      }
    },
    {
      "cell_type": "code",
      "source": [
        "# @title Default title text\n",
        "# Quiz: Running C++ in Google Colab\n",
        "score = 0\n",
        "\n",
        "print(\"Welcome to the C++ in Google Colab Quiz!\\n\")\n",
        "\n",
        "q1 = input(\"Q1: Can you run C++ code in Google Colab?\\n(a) No\\n(b) Yes, using magic or shell commands\\n(c) Only on Windows\\nYour answer: \")\n",
        "if q1.lower() == \"b\":\n",
        "    score += 1\n",
        "\n",
        "q2 = input(\"\\nQ2: Which compiler is used in Colab to compile C++ code?\\n(a) clang\\n(b) javac\\n(c) g++\\nYour answer: \")\n",
        "if q2.lower() == \"c\":\n",
        "    score += 1\n",
        "\n",
        "q3 = input(\"\\nQ3: What does the '!' symbol do in Google Colab?\\n(a) Starts a comment\\n(b) Runs shell commands\\n(c) Declares a variable\\nYour answer: \")\n",
        "if q3.lower() == \"b\":\n",
        "    score += 1\n",
        "\n",
        "q4 = input(\"\\nQ4: What is the purpose of %%writefile in a Colab cell?\\n(a) To write a Python function\\n(b) To save C++ code to a file\\n(c) To compile code\\nYour answer: \")\n",
        "if q4.lower() == \"b\":\n",
        "    score += 1\n",
        "\n",
        "print(f\"\\nYour final score is {score}/4 🎉\")\n"
      ],
      "metadata": {
        "cellView": "form",
        "collapsed": true,
        "id": "LSpN3ofWleFb",
        "outputId": "ebf6843b-f0a1-424a-a009-cd729b807b23",
        "colab": {
          "base_uri": "https://localhost:8080/",
          "height": 412
        }
      },
      "execution_count": null,
      "outputs": [
        {
          "output_type": "stream",
          "name": "stdout",
          "text": [
            "Welcome to the C++ in Google Colab Quiz!\n",
            "\n"
          ]
        },
        {
          "output_type": "error",
          "ename": "KeyboardInterrupt",
          "evalue": "Interrupted by user",
          "traceback": [
            "\u001b[0;31m---------------------------------------------------------------------------\u001b[0m",
            "\u001b[0;31mKeyboardInterrupt\u001b[0m                         Traceback (most recent call last)",
            "\u001b[0;32m/tmp/ipython-input-2997937428.py\u001b[0m in \u001b[0;36m<cell line: 0>\u001b[0;34m()\u001b[0m\n\u001b[1;32m      4\u001b[0m \u001b[0mprint\u001b[0m\u001b[0;34m(\u001b[0m\u001b[0;34m\"Welcome to the C++ in Google Colab Quiz!\\n\"\u001b[0m\u001b[0;34m)\u001b[0m\u001b[0;34m\u001b[0m\u001b[0;34m\u001b[0m\u001b[0m\n\u001b[1;32m      5\u001b[0m \u001b[0;34m\u001b[0m\u001b[0m\n\u001b[0;32m----> 6\u001b[0;31m \u001b[0mq1\u001b[0m \u001b[0;34m=\u001b[0m \u001b[0minput\u001b[0m\u001b[0;34m(\u001b[0m\u001b[0;34m\"Q1: Can you run C++ code in Google Colab?\\n(a) No\\n(b) Yes, using magic or shell commands\\n(c) Only on Windows\\nYour answer: \"\u001b[0m\u001b[0;34m)\u001b[0m\u001b[0;34m\u001b[0m\u001b[0;34m\u001b[0m\u001b[0m\n\u001b[0m\u001b[1;32m      7\u001b[0m \u001b[0;32mif\u001b[0m \u001b[0mq1\u001b[0m\u001b[0;34m.\u001b[0m\u001b[0mlower\u001b[0m\u001b[0;34m(\u001b[0m\u001b[0;34m)\u001b[0m \u001b[0;34m==\u001b[0m \u001b[0;34m\"b\"\u001b[0m\u001b[0;34m:\u001b[0m\u001b[0;34m\u001b[0m\u001b[0;34m\u001b[0m\u001b[0m\n\u001b[1;32m      8\u001b[0m     \u001b[0mscore\u001b[0m \u001b[0;34m+=\u001b[0m \u001b[0;36m1\u001b[0m\u001b[0;34m\u001b[0m\u001b[0;34m\u001b[0m\u001b[0m\n",
            "\u001b[0;32m/usr/local/lib/python3.12/dist-packages/ipykernel/kernelbase.py\u001b[0m in \u001b[0;36mraw_input\u001b[0;34m(self, prompt)\u001b[0m\n\u001b[1;32m   1175\u001b[0m                 \u001b[0;34m\"raw_input was called, but this frontend does not support input requests.\"\u001b[0m\u001b[0;34m\u001b[0m\u001b[0;34m\u001b[0m\u001b[0m\n\u001b[1;32m   1176\u001b[0m             )\n\u001b[0;32m-> 1177\u001b[0;31m         return self._input_request(\n\u001b[0m\u001b[1;32m   1178\u001b[0m             \u001b[0mstr\u001b[0m\u001b[0;34m(\u001b[0m\u001b[0mprompt\u001b[0m\u001b[0;34m)\u001b[0m\u001b[0;34m,\u001b[0m\u001b[0;34m\u001b[0m\u001b[0;34m\u001b[0m\u001b[0m\n\u001b[1;32m   1179\u001b[0m             \u001b[0mself\u001b[0m\u001b[0;34m.\u001b[0m\u001b[0m_parent_ident\u001b[0m\u001b[0;34m[\u001b[0m\u001b[0;34m\"shell\"\u001b[0m\u001b[0;34m]\u001b[0m\u001b[0;34m,\u001b[0m\u001b[0;34m\u001b[0m\u001b[0;34m\u001b[0m\u001b[0m\n",
            "\u001b[0;32m/usr/local/lib/python3.12/dist-packages/ipykernel/kernelbase.py\u001b[0m in \u001b[0;36m_input_request\u001b[0;34m(self, prompt, ident, parent, password)\u001b[0m\n\u001b[1;32m   1217\u001b[0m             \u001b[0;32mexcept\u001b[0m \u001b[0mKeyboardInterrupt\u001b[0m\u001b[0;34m:\u001b[0m\u001b[0;34m\u001b[0m\u001b[0;34m\u001b[0m\u001b[0m\n\u001b[1;32m   1218\u001b[0m                 \u001b[0;31m# re-raise KeyboardInterrupt, to truncate traceback\u001b[0m\u001b[0;34m\u001b[0m\u001b[0;34m\u001b[0m\u001b[0m\n\u001b[0;32m-> 1219\u001b[0;31m                 \u001b[0;32mraise\u001b[0m \u001b[0mKeyboardInterrupt\u001b[0m\u001b[0;34m(\u001b[0m\u001b[0;34m\"Interrupted by user\"\u001b[0m\u001b[0;34m)\u001b[0m \u001b[0;32mfrom\u001b[0m \u001b[0;32mNone\u001b[0m\u001b[0;34m\u001b[0m\u001b[0;34m\u001b[0m\u001b[0m\n\u001b[0m\u001b[1;32m   1220\u001b[0m             \u001b[0;32mexcept\u001b[0m \u001b[0mException\u001b[0m\u001b[0;34m:\u001b[0m\u001b[0;34m\u001b[0m\u001b[0;34m\u001b[0m\u001b[0m\n\u001b[1;32m   1221\u001b[0m                 \u001b[0mself\u001b[0m\u001b[0;34m.\u001b[0m\u001b[0mlog\u001b[0m\u001b[0;34m.\u001b[0m\u001b[0mwarning\u001b[0m\u001b[0;34m(\u001b[0m\u001b[0;34m\"Invalid Message:\"\u001b[0m\u001b[0;34m,\u001b[0m \u001b[0mexc_info\u001b[0m\u001b[0;34m=\u001b[0m\u001b[0;32mTrue\u001b[0m\u001b[0;34m)\u001b[0m\u001b[0;34m\u001b[0m\u001b[0;34m\u001b[0m\u001b[0m\n",
            "\u001b[0;31mKeyboardInterrupt\u001b[0m: Interrupted by user"
          ]
        }
      ]
    },
    {
      "cell_type": "markdown",
      "metadata": {
        "id": "g6LT91r5_mdJ"
      },
      "source": [
        "#1- **Hellow Words**\n",
        "Every C++ program uses libraries, which give the ability to execute necessary functions. For example, the most basic function called 'cout', which prints to the screen, is defined in the iostream header file.\n",
        "\n",
        "To add the ability to run the cout command to our program, we must add following include directive to our first line of the code:"
      ]
    },
    {
      "cell_type": "markdown",
      "source": [
        "#Example:"
      ],
      "metadata": {
        "id": "KuhAspyHllXp"
      }
    },
    {
      "cell_type": "code",
      "source": [
        "%%writefile main.cpp\n",
        "#include <iostream>\n",
        "using namespace std;\n",
        "\n",
        "int main() {\n",
        "    cout << \"Hello from C++ in Colab!\" << endl;\n",
        "    return 0;\n",
        "}\n"
      ],
      "metadata": {
        "id": "bxYTaWFDHXb2",
        "outputId": "4a12f221-d226-48a9-c6a6-5b2c97ba37ea",
        "colab": {
          "base_uri": "https://localhost:8080/"
        }
      },
      "execution_count": null,
      "outputs": [
        {
          "output_type": "stream",
          "name": "stdout",
          "text": [
            "Writing main.cpp\n"
          ]
        }
      ]
    },
    {
      "cell_type": "code",
      "source": [
        "!g++ main.cpp -o main\n",
        "!./main\n"
      ],
      "metadata": {
        "id": "8Q2cV-hsHggh",
        "outputId": "bcaba0ed-507e-4deb-903e-a5592a3ca6bd",
        "colab": {
          "base_uri": "https://localhost:8080/"
        }
      },
      "execution_count": null,
      "outputs": [
        {
          "output_type": "stream",
          "name": "stdout",
          "text": [
            "Hello from C++ in Colab!\n"
          ]
        }
      ]
    },
    {
      "cell_type": "markdown",
      "source": [
        "**🔹 Explanation:**\n",
        "\n",
        "- %%writefile main.cpp – Writes the C++ code into a file.\n",
        "\n",
        "- !g++ main.cpp -o main – Compiles the code using GNU C++ Compiler.\n",
        "\n",
        "- !./main – Executes the compiled binary.\n",
        "\n",
        "- ✅ **#include** <iostream>:This line includes the input-output stream library. It's necessary for using cout (for printing to the console) and cin (for reading input).\n",
        "\n",
        "- ✅ **using namespace std;**:Tells the compiler to use the standard (std) namespace.Without this line, you would have to write std::cout instead of just cout.\n",
        "\n",
        "- ✅ **int main() { ... }**:This is the main function, the starting point of every C++ program.The code inside {} runs when the program starts.\n",
        "\n",
        "- ✅ **cout << \"Hello from C++ in Colab!\" << endl;**:\n",
        "\n",
        "- cout stands for \"character output\" and prints text to the console.\n",
        "- \"Hello from C++ in Colab!\" is the text being printed.\n",
        "- << endl moves the cursor to the next line (like pressing Enter).\n",
        "- ✅ return 0;This line tells the operating system that the program completed successfully.Returning 0 from main() is a standard convention."
      ],
      "metadata": {
        "id": "2bnDSrzzH9Jy"
      }
    },
    {
      "cell_type": "markdown",
      "source": [
        "#**Quiz**"
      ],
      "metadata": {
        "id": "of2W844gltkY"
      }
    },
    {
      "cell_type": "code",
      "source": [
        "# @title Default title text\n",
        "# Quiz: C++ Hello World in Google Colab\n",
        "score = 0\n",
        "\n",
        "print(\"Welcome to the 'Hello World' C++ Quiz!\\n\")\n",
        "\n",
        "q1 = input(\"Q1: Which header file is required to use cout in C++?\\n(a) stdio.h\\n(b) iostream\\n(c) cstdlib\\nYour answer: \")\n",
        "if q1.lower() == \"b\":\n",
        "    score += 1\n",
        "\n",
        "q2 = input(\"\\nQ2: What does the line 'using namespace std;' do?\\n(a) It creates a new namespace\\n(b) It imports custom functions\\n(c) It allows using std functions without prefix\\nYour answer: \")\n",
        "if q2.lower() == \"c\":\n",
        "    score += 1\n",
        "\n",
        "q3 = input(\"\\nQ3: What is the purpose of '%%writefile main.cpp' in Google Colab?\\n(a) Compile the code\\n(b) Write C++ code to a file\\n(c) Run the executable\\nYour answer: \")\n",
        "if q3.lower() == \"b\":\n",
        "    score += 1\n",
        "\n",
        "q4 = input(\"\\nQ4: What does 'return 0;' indicate in the main() function?\\n(a) Loop the program\\n(b) Program crashed\\n(c) Program ended successfully\\nYour answer: \")\n",
        "if q4.lower() == \"c\":\n",
        "    score += 1\n",
        "\n",
        "q5 = input(\"\\nQ5: What is the correct command to compile C++ code in Colab?\\n(a) !python main.cpp\\n(b) !clang main.cpp -o main\\n(c) !g++ main.cpp -o main\\nYour answer: \")\n",
        "if q5.lower() == \"c\":\n",
        "    score += 1\n",
        "\n",
        "print(f\"\\nYour final score is {score}/5 🎉\")\n"
      ],
      "metadata": {
        "cellView": "form",
        "collapsed": true,
        "id": "VSZBecp5mAl_",
        "outputId": "c0f7bb02-af4b-48a4-cd97-9a303faa6f83",
        "colab": {
          "base_uri": "https://localhost:8080/"
        }
      },
      "execution_count": null,
      "outputs": [
        {
          "output_type": "stream",
          "name": "stdout",
          "text": [
            "Welcome to the 'Hello World' C++ Quiz!\n",
            "\n",
            "Q1: Which header file is required to use cout in C++?\n",
            "(a) stdio.h\n",
            "(b) iostream\n",
            "(c) cstdlib\n",
            "Your answer: b\n",
            "\n",
            "Q2: What does the line 'using namespace std;' do?\n",
            "(a) It creates a new namespace\n",
            "(b) It imports custom functions\n",
            "(c) It allows using std functions without prefix\n",
            "Your answer: b\n",
            "\n",
            "Q3: What is the purpose of '%%writefile main.cpp' in Google Colab?\n",
            "(a) Compile the code\n",
            "(b) Write C++ code to a file\n",
            "(c) Run the executable\n",
            "Your answer: b\n",
            "\n",
            "Q4: What does 'return 0;' indicate in the main() function?\n",
            "(a) Loop the program\n",
            "(b) Program crashed\n",
            "(c) Program ended successfully\n",
            "Your answer: \n",
            "\n",
            "Q5: What is the correct command to compile C++ code in Colab?\n",
            "(a) !python main.cpp\n",
            "(b) !clang main.cpp -o main\n",
            "(c) !g++ main.cpp -o main\n",
            "Your answer: b\n",
            "\n",
            "Your final score is 2/5 🎉\n"
          ]
        }
      ]
    },
    {
      "cell_type": "markdown",
      "metadata": {
        "id": "03I1mZizzX5x"
      },
      "source": [
        "#2-**Comments**\n",
        "Comments can be used to explain C++ code, and to make it more readable. It can also be used to prevent execution when testing alternative code. Comments can be singled-lined or multi-lined.\n",
        "\n",
        "Single-line comments start with two forward slashes (//).\n",
        "\n",
        "Any text between // and the end of the line is ignored by the compiler (will not be executed).\n",
        "\n",
        "This example uses a single-line comment before a line of code:\n",
        "\n",
        "\n",
        "\n"
      ]
    },
    {
      "cell_type": "markdown",
      "source": [
        "### 🔹 Explanation: Comments in C++\n",
        "\n",
        "* Comments help make the code **more readable and understandable**.\n",
        "* They are **ignored by the compiler** and do **not affect program output**.\n",
        "* **Single-line comments** start with `//` and extend to the end of the line.\n",
        "\n",
        "  * Example: `// This prints a message`\n",
        "* **Multi-line comments** start with `/*` and end with `*/`.\n",
        "\n",
        "  * Example:\n",
        "\n",
        "    ```cpp\n",
        "    /* This is a\n",
        "       multi-line comment */\n",
        "    ```\n",
        "* Used for **explaining code**, **temporarily disabling code**, or **testing**.\n",
        "* Good commenting makes code **easier to maintain and debug**.\n"
      ],
      "metadata": {
        "id": "tPvUdTP4mtWD"
      }
    },
    {
      "cell_type": "markdown",
      "source": [
        "#Example:"
      ],
      "metadata": {
        "id": "3-rtzmbTmL_s"
      }
    },
    {
      "cell_type": "code",
      "metadata": {
        "id": "dNCM9_GN0IFf",
        "colab": {
          "base_uri": "https://localhost:8080/",
          "height": 52
        },
        "outputId": "6d3065c2-cb5d-43d7-cbc4-7190d50ad937"
      },
      "source": [
        "%%writefile comments.cpp\n",
        "/* hellow wors\n",
        "sdfdf\n",
        "*/\n",
        "#include <iostream>\n",
        "using namespace std; // it used for explaination\n",
        "\n",
        "int main() {\n",
        "  cout << \"Goodbye, World!\" << std::endl;\n",
        "  return 0;\n",
        "}"
      ],
      "execution_count": null,
      "outputs": [
        {
          "output_type": "stream",
          "text": [
            "Goodbye, World!\n",
            "\n"
          ],
          "name": "stdout"
        }
      ]
    },
    {
      "cell_type": "code",
      "source": [
        "!g++ comments.cpp -o main\n",
        "!./main"
      ],
      "metadata": {
        "id": "oc8OeiypljZu"
      },
      "execution_count": null,
      "outputs": []
    },
    {
      "cell_type": "markdown",
      "source": [
        "#**Quiz**"
      ],
      "metadata": {
        "id": "fkI2pOEknaqd"
      }
    },
    {
      "cell_type": "code",
      "source": [
        "# @title Default title text\n",
        "# C++ Comments Quiz\n",
        "score = 0\n",
        "\n",
        "print(\"Welcome to the C++ Comments Quiz!\\n\")\n",
        "\n",
        "q1 = input(\"Q1: Which symbol is used for single-line comments in C++?\\n(a) #\\n(b) //\\n(c) <!-- -->\\nYour answer: \")\n",
        "if q1.lower() == \"b\":\n",
        "    score += 1\n",
        "\n",
        "q2 = input(\"\\nQ2: What does the compiler do with comments?\\n(a) Executes them\\n(b) Ignores them\\n(c) Compiles them\\nYour answer: \")\n",
        "if q2.lower() == \"b\":\n",
        "    score += 1\n",
        "\n",
        "q3 = input(\"\\nQ3: Which of the following is a correct multi-line comment?\\n(a) <!-- This is a comment -->\\n(b) /* This is a comment */\\n(c) # This is a comment\\nYour answer: \")\n",
        "if q3.lower() == \"b\":\n",
        "    score += 1\n",
        "\n",
        "q4 = input(\"\\nQ4: What is the purpose of using comments in code?\\n(a) To make the code run faster\\n(b) To explain and clarify the code\\n(c) To increase the file size\\nYour answer: \")\n",
        "if q4.lower() == \"b\":\n",
        "    score += 1\n",
        "\n",
        "print(f\"\\nYour final score is {score}/4 🎉\")\n"
      ],
      "metadata": {
        "cellView": "form",
        "collapsed": true,
        "id": "1CNGZoVTneSu",
        "outputId": "0325d1b6-d337-4cfc-ceda-6a0ae2527119",
        "colab": {
          "base_uri": "https://localhost:8080/"
        }
      },
      "execution_count": null,
      "outputs": [
        {
          "output_type": "stream",
          "name": "stdout",
          "text": [
            "Welcome to the C++ Comments Quiz!\n",
            "\n",
            "Q1: Which symbol is used for single-line comments in C++?\n",
            "(a) #\n",
            "(b) //\n",
            "(c) <!-- -->\n",
            "Your answer: b\n",
            "\n",
            "Q2: What does the compiler do with comments?\n",
            "(a) Executes them\n",
            "(b) Ignores them\n",
            "(c) Compiles them\n",
            "Your answer: b\n",
            "\n",
            "Q3: Which of the following is a correct multi-line comment?\n",
            "(a) <!-- This is a comment -->\n",
            "(b) /* This is a comment */\n",
            "(c) # This is a comment\n",
            "Your answer: b\n",
            "\n",
            "Q4: What is the purpose of using comments in code?\n",
            "(a) To make the code run faster\n",
            "(b) To explain and clarify the code\n",
            "(c) To increase the file size\n",
            "Your answer: b\n",
            "\n",
            "Your final score is 4/4 🎉\n"
          ]
        }
      ]
    },
    {
      "cell_type": "markdown",
      "metadata": {
        "id": "9nJmmu7VDI-8"
      },
      "source": [
        "#3-**C++ User Input**\n",
        "\n",
        ".You have already learned that cout is used to output (print) values. Now we will use cin to get user input.\n",
        "\n",
        ".cin is a predefined variable that reads data from the keyboard with the extraction operator (>>)."
      ]
    },
    {
      "cell_type": "markdown",
      "source": [
        "### 🔹 **Explanation: User Input in C++**\n",
        "\n",
        "* `cin` is a predefined object in the **iostream** library used to **read input from the keyboard**.\n",
        "\n",
        "* It works with the **extraction operator `>>`** to extract values entered by the user and store them in variables.\n",
        "\n",
        "* **Example:**\n",
        "\n",
        "  ```cpp\n",
        "  int age;\n",
        "  cout << \"Enter your age: \";\n",
        "  cin >> age;  // waits for user input and stores it in age\n",
        "  cout << \"You entered: \" << age << endl;\n",
        "  ```\n",
        "\n",
        "* **Multiple Inputs:**\n",
        "  You can read multiple variables in a single line:\n",
        "\n",
        "  ```cpp\n",
        "  int x, y;\n",
        "  cin >> x >> y;\n",
        "  ```\n",
        "\n",
        "* **Data Types Supported:**\n",
        "  Works with all basic types like `int`, `float`, `double`, `char`, and `string` (for single words).\n",
        "\n",
        "* **Reading Full Lines:**\n",
        "  For strings containing spaces, use the `getline()` function instead of `cin` to read the entire line:\n",
        "\n",
        "  ```cpp\n",
        "  string fullName;\n",
        "  getline(cin, fullName);\n",
        "  ```\n",
        "\n",
        "  * `cin` reads from the **standard input stream (keyboard)**.\n",
        "  * It automatically skips whitespace characters like spaces, tabs, and newlines when reading formatted input.\n",
        "  * When mixing `cin >>` with `getline()`, leftover newline characters in the input buffer can cause issues (such as skipping input). To handle this, you can clear the input buffer using `cin.ignore()`.\n",
        "  * Proper input validation is crucial as `cin` does not handle incorrect input types by default; invalid input may leave the input stream in a fail state."
      ],
      "metadata": {
        "id": "0YfUNyytoZ0V"
      }
    },
    {
      "cell_type": "markdown",
      "source": [
        "#Example:"
      ],
      "metadata": {
        "id": "a8jlb4bHpiuX"
      }
    },
    {
      "cell_type": "code",
      "metadata": {
        "id": "cI_PlqEbB7EG",
        "colab": {
          "base_uri": "https://localhost:8080/"
        },
        "outputId": "84a232f6-90cd-4a6a-ec64-33c636a3fed8"
      },
      "source": [
        "%%writefile userinput.cpp\n",
        "\n",
        "#include <iostream>\n",
        "using namespace std; // it used for explaination\n",
        "\n",
        "int main() {\n",
        "  int x=0;\n",
        "cout << \"Type a number: \"; // Type a number and press enter\n",
        "cin >> x; // Get user input from the keyboard\n",
        "cout << \"Your number is: \" << x; // Display the input value\n",
        "}"
      ],
      "execution_count": null,
      "outputs": [
        {
          "output_type": "stream",
          "name": "stdout",
          "text": [
            "Overwriting userinput.cpp\n"
          ]
        }
      ]
    },
    {
      "cell_type": "code",
      "source": [
        "!g++ userinput.cpp -o main\n",
        "!./main"
      ],
      "metadata": {
        "id": "kdBlKUnQp5ed",
        "outputId": "24004118-a4e4-417e-e289-3dda0c5ebe0d",
        "colab": {
          "base_uri": "https://localhost:8080/"
        }
      },
      "execution_count": null,
      "outputs": [
        {
          "output_type": "stream",
          "name": "stdout",
          "text": [
            "Type a number: 1\n",
            "Your number is: 1"
          ]
        }
      ]
    },
    {
      "cell_type": "markdown",
      "source": [
        "#**Quiz**"
      ],
      "metadata": {
        "id": "h5en83wcqnsC"
      }
    },
    {
      "cell_type": "code",
      "source": [
        "# @title Default title text\n",
        "# Quiz: C++ User Input\n",
        "score = 0\n",
        "\n",
        "print(\"Welcome to the C++ User Input Quiz!\\n\")\n",
        "\n",
        "q1 = input(\"Q1: Which operator is used with 'cin' to get input?\\n(a) <<\\n(b) >>\\n(c) ==\\nYour answer: \")\n",
        "if q1.lower() == \"b\":\n",
        "    score += 1\n",
        "\n",
        "q2 = input(\"\\nQ2: What does 'cin' read input from?\\n(a) Keyboard\\n(b) File\\n(c) Network\\nYour answer: \")\n",
        "if q2.lower() == \"a\":\n",
        "    score += 1\n",
        "\n",
        "q3 = input(\"\\nQ3: Which function should you use to read a full line including spaces?\\n(a) cin\\n(b) getline\\n(c) input\\nYour answer: \")\n",
        "if q3.lower() == \"b\":\n",
        "    score += 1\n",
        "\n",
        "q4 = input(\"\\nQ4: What can cause input skipping when mixing 'cin >>' and 'getline()'?\\n(a) Extra spaces\\n(b) Leftover newline characters\\n(c) Invalid input\\nYour answer: \")\n",
        "if q4.lower() == \"b\":\n",
        "    score += 1\n",
        "\n",
        "q5 = input(\"\\nQ5: How can you clear the leftover newline from the input buffer?\\n(a) cin.clear()\\n(b) cin.ignore()\\n(c) cin.reset()\\nYour answer: \")\n",
        "if q5.lower() == \"b\":\n",
        "    score += 1\n",
        "\n",
        "print(f\"\\nYour final score is {score}/5 🎉\")\n"
      ],
      "metadata": {
        "cellView": "form",
        "id": "--pF7AN_qqJn"
      },
      "execution_count": null,
      "outputs": []
    },
    {
      "cell_type": "markdown",
      "metadata": {
        "id": "BYz7t5-DFgLd"
      },
      "source": [
        "#4-**Variable and types**\n",
        "\n",
        "**Data types**\n",
        "\n",
        "C++ provides a rich set of built-in as well as user defined data types. Following table lists down seven basic C++ data types:\n",
        "\n",
        "**Built-in**\n",
        "- Boolean - boolean - either true or false (Size 4 bytes).\n",
        "- Integers - whole numbers which can be both positive and negative. Defined using char, int.(Size 4 bytes)\n",
        "- Floating point numbers - real numbers (numbers with - fractions). Defined using float and double (Size 4 bytes)\n",
        "- Double - Stores Fractional numbers.Containing one or more decimals (size 8 bytes )\n",
        "- Char - Stores a Single Characters\n",
        "Valueless using the void keyword\n",
        "Wide character using the wchar_t keyword(Size 1 bytes)\n",
        "\n",
        "**Typdefs**\n",
        "Typedefs allow for creating new names (think of them as aliases) for existing types. Following is the simple syntax to define a new type using typedef:\n",
        "\n",
        "**Defining variables**\n",
        "For numbers, we will usually use the type int, which an integer in the size of a \"word\" the default number size of the machine which your program is compiled on. On most computers today, it is a 32-bit number, which means the number can range from -2,147,483,648 to 2,147,483,647 (same as long).\n",
        "\n",
        "To define the variables foo and bar, we need to use the following syntax:\n",
        "\n",
        "int foo;\n",
        "\n",
        "int bar = 1;\n",
        "\n",
        "The variable foo can be used, but since we did not initialize it, we don't know what's in it. The variable bar contains the number 1.\n",
        "\n",
        "Now, we can do some math. Assuming a, b, c, d, and e are variables, we can simply use plus, minus and multiplication operators in the following notation, and assign a new value to a:\n",
        "\n",
        "int a = 0, b = 1, c = 2, d = 3, e = 4;\n",
        "\n",
        "a = b - c + d * e;\n",
        "\n",
        "cout << a << endl; // will print 1-2+3*4 = 11\n",
        "\n"
      ]
    },
    {
      "cell_type": "markdown",
      "source": [
        "#Examples:"
      ],
      "metadata": {
        "id": "Z6MmcspkmU18"
      }
    },
    {
      "cell_type": "code",
      "metadata": {
        "id": "wlbWsYAQqGjm",
        "colab": {
          "base_uri": "https://localhost:8080/"
        },
        "outputId": "54b97c69-a73b-4b3c-fce5-b245135b7d01"
      },
      "source": [
        "%%writefile variable.cpp\n",
        "#include <iostream>\n",
        "using namespace std;\n",
        "\n",
        "int main() {\n",
        "  int a = 3;\n",
        "  float b = 4.5;\n",
        "  double c = 5.25;\n",
        "  double sum;\n",
        "\n",
        "  /* Your code goes here */\n",
        "    sum =a+b+c;\n",
        "\n",
        "  cout << \"The sum of a, b, and c is\" << sum << endl;\n",
        "  return 0;\n",
        "}\n"
      ],
      "execution_count": null,
      "outputs": [
        {
          "output_type": "stream",
          "name": "stdout",
          "text": [
            "Overwriting variable.cpp\n"
          ]
        }
      ]
    },
    {
      "cell_type": "code",
      "source": [
        "!g++ variable.cpp -o main\n",
        "!./main"
      ],
      "metadata": {
        "colab": {
          "base_uri": "https://localhost:8080/"
        },
        "id": "APH7PztbeqpG",
        "outputId": "9abb515b-a9de-4c48-aacc-f04018071ee1"
      },
      "execution_count": null,
      "outputs": [
        {
          "output_type": "stream",
          "name": "stdout",
          "text": [
            "The sum of a, b, and c is12.75\n"
          ]
        }
      ]
    },
    {
      "cell_type": "code",
      "metadata": {
        "id": "_y1-oaL4DmST",
        "colab": {
          "base_uri": "https://localhost:8080/"
        },
        "outputId": "e5dab7a1-c7cf-4f04-bc84-3dded6127432"
      },
      "source": [
        "%%writefile variable.cpp\n",
        "#include <iostream>\n",
        "using namespace std;\n",
        "\n",
        "int main () {\n",
        "  int myNum = 1000;\n",
        "  cout << myNum;\n",
        "  return 0;\n",
        "}\n",
        "\n"
      ],
      "execution_count": null,
      "outputs": [
        {
          "output_type": "stream",
          "name": "stdout",
          "text": [
            "Overwriting variable.cpp\n"
          ]
        }
      ]
    },
    {
      "cell_type": "code",
      "source": [
        "!g++ variable.cpp -o main\n",
        "!./main"
      ],
      "metadata": {
        "colab": {
          "base_uri": "https://localhost:8080/"
        },
        "id": "NS1xrESqmZtp",
        "outputId": "da759af8-a6c9-445b-86a0-042220e1dae2"
      },
      "execution_count": null,
      "outputs": [
        {
          "output_type": "stream",
          "name": "stdout",
          "text": [
            "1000"
          ]
        }
      ]
    },
    {
      "cell_type": "code",
      "metadata": {
        "id": "6MCMxpNOFLsM",
        "colab": {
          "base_uri": "https://localhost:8080/"
        },
        "outputId": "5b247f67-d89d-4d8c-b6a1-6124412648b6"
      },
      "source": [
        "%%writefile variable.cpp\n",
        "#include <iostream>\n",
        "using namespace std;\n",
        "\n",
        "int main(){\n",
        "    float mynumb=2.25;\n",
        "    cout <<mynumb;\n",
        "    return 0;\n",
        "}\n"
      ],
      "execution_count": null,
      "outputs": [
        {
          "output_type": "stream",
          "name": "stdout",
          "text": [
            "Overwriting variable.cpp\n"
          ]
        }
      ]
    },
    {
      "cell_type": "code",
      "source": [
        "!g++ variable.cpp -o main\n",
        "!./main"
      ],
      "metadata": {
        "colab": {
          "base_uri": "https://localhost:8080/"
        },
        "id": "6iQE8qoYmlqS",
        "outputId": "4d20f2aa-d819-439d-c1d4-75ef584f466d"
      },
      "execution_count": null,
      "outputs": [
        {
          "output_type": "stream",
          "name": "stdout",
          "text": [
            "2.25"
          ]
        }
      ]
    },
    {
      "cell_type": "code",
      "metadata": {
        "id": "dnOb80WmhpEP",
        "colab": {
          "base_uri": "https://localhost:8080/"
        },
        "outputId": "f05508c1-ba52-447a-8d8d-1291497bd93b"
      },
      "source": [
        "%%writefile variable.cpp\n",
        "#include <iostream>\n",
        "using namespace std;\n",
        "\n",
        "int main(){\n",
        "    double mynumb=66.87;\n",
        "    cout <<mynumb;\n",
        "    return 0;\n",
        "\n",
        "}\n"
      ],
      "execution_count": null,
      "outputs": [
        {
          "output_type": "stream",
          "name": "stdout",
          "text": [
            "Overwriting variable.cpp\n"
          ]
        }
      ]
    },
    {
      "cell_type": "code",
      "source": [
        "!g++ variable.cpp -o main\n",
        "!./main"
      ],
      "metadata": {
        "colab": {
          "base_uri": "https://localhost:8080/"
        },
        "id": "bCK-GFMlmrPY",
        "outputId": "dae85b4c-f014-4221-d40f-09a95d6d4611"
      },
      "execution_count": null,
      "outputs": [
        {
          "output_type": "stream",
          "name": "stdout",
          "text": [
            "66.87"
          ]
        }
      ]
    },
    {
      "cell_type": "code",
      "metadata": {
        "id": "gRMWj0ubYmlC",
        "colab": {
          "base_uri": "https://localhost:8080/"
        },
        "outputId": "f9dd4265-6c6b-4edd-c853-715433c64c29"
      },
      "source": [
        "%%writefile variable.cpp\n",
        "#include <iostream>\n",
        "using namespace std;\n",
        "\n",
        "int main() {\n",
        "  int x = 5;\n",
        "  int y = 3;\n",
        "  cout << x + y;\n",
        "  return 0;\n",
        "}\n",
        "\n"
      ],
      "execution_count": null,
      "outputs": [
        {
          "output_type": "stream",
          "name": "stdout",
          "text": [
            "Overwriting variable.cpp\n"
          ]
        }
      ]
    },
    {
      "cell_type": "code",
      "source": [
        "!g++ variable.cpp -o main\n",
        "!./main"
      ],
      "metadata": {
        "colab": {
          "base_uri": "https://localhost:8080/"
        },
        "id": "amQac1GqmtAA",
        "outputId": "080c747d-15ee-4f56-e1ee-7a3ea138fe04"
      },
      "execution_count": null,
      "outputs": [
        {
          "output_type": "stream",
          "name": "stdout",
          "text": [
            "8"
          ]
        }
      ]
    },
    {
      "cell_type": "markdown",
      "source": [
        "#**Quiz**"
      ],
      "metadata": {
        "id": "H19smSLbmxM_"
      }
    },
    {
      "cell_type": "code",
      "source": [
        "# @title Default title text\n",
        "# Simple quiz in Google Colab - C++ Variables and Data Types\n",
        "score = 0\n",
        "\n",
        "print(\"Welcome to the C++ Quiz!\\n\")\n",
        "\n",
        "q1 = input(\"Q1: Which data type is used to store a single character in C++?\\n(a) char\\n(b) int\\n(c) float\\nYour answer: \")\n",
        "if q1.lower() == \"a\":\n",
        "    score += 1\n",
        "\n",
        "q2 = input(\"\\nQ2: What is the size of a double in C++?\\n(a) 4 bytes\\n(b) 8 bytes\\n(c) 1 byte\\nYour answer: \")\n",
        "if q2.lower() == \"b\":\n",
        "    score += 1\n",
        "\n",
        "q3 = input(\"\\nQ3: Which keyword is used to define a variable with no value?\\n(a) empty\\n(b) null\\n(c) void\\nYour answer: \")\n",
        "if q3.lower() == \"c\":\n",
        "    score += 1\n",
        "\n",
        "q4 = input(\"\\nQ4: What does the typedef keyword do in C++?\\n(a) Creates new variable\\n(b) Assigns values\\n(c) Creates a type alias\\nYour answer: \")\n",
        "if q4.lower() == \"c\":\n",
        "    score += 1\n",
        "\n",
        "q5 = input(\"\\nQ5: What will be the result of 'a = b - c + d * e' if b=1, c=2, d=3, e=4?\\n(a) 11\\n(b) 7\\n(c) -1\\nYour answer: \")\n",
        "if q5.lower() == \"a\":\n",
        "    score += 1\n",
        "\n",
        "q6 = input(\"\\nQ6: Which data type is best for storing decimal numbers?\\n(a) int\\n(b) float\\n(c) char\\nYour answer: \")\n",
        "if q6.lower() == \"b\":\n",
        "    score += 1\n",
        "\n",
        "q7 = input(\"\\nQ7: Which statement correctly initializes a variable with value 1000?\\n(a) int myNum = 1000;\\n(b) myNum = 1000;\\n(c) var myNum = 1000;\\nYour answer: \")\n",
        "if q7.lower() == \"a\":\n",
        "    score += 1\n",
        "\n",
        "q8 = input(\"\\nQ8: What will 'cout << 5 + 3;' output?\\n(a) 53\\n(b) 8\\n(c) 5+3\\nYour answer: \")\n",
        "if q8.lower() == \"b\":\n",
        "    score += 1\n",
        "\n",
        "print(f\"\\nYour final score is {score}/8 🎉\")\n"
      ],
      "metadata": {
        "cellView": "form",
        "id": "OHE4nPINmxd4"
      },
      "execution_count": null,
      "outputs": []
    },
    {
      "cell_type": "markdown",
      "metadata": {
        "id": "niOqrXYirLI0"
      },
      "source": [
        "##4.1.**Strings**\n",
        "* Strings are used for storing text.\n",
        "* A string variable contains a collection of characters surrounded by double quotes\n",
        "* Strings are sequences of characters used to represent text in most programming languages.\n",
        "* They are usually enclosed in **double quotes (`\"`)** or **single quotes (`'`)**.\n",
        "* Strings can include letters, numbers, symbols, and whitespace.\n",
        "* Most languages treat strings as **immutable**, meaning they cannot be changed after creation.\n",
        "* Common operations include **concatenation**, **slicing**, **searching**, and **replacing**.\n",
        "* Escape characters like `\\n` (newline) or `\\t` (tab) add formatting within strings.\n",
        "* Strings are **indexed**, allowing access to individual characters (e.g., `string[0]`).\n",
        "* Many languages offer built-in **string methods** (e.g., `.lower()`, `.split()`, `.replace()`).\n"
      ]
    },
    {
      "cell_type": "markdown",
      "source": [
        "## Example"
      ],
      "metadata": {
        "id": "XUBxWDT4nC-_"
      }
    },
    {
      "cell_type": "code",
      "metadata": {
        "id": "3e4il_SbHlGa",
        "colab": {
          "base_uri": "https://localhost:8080/"
        },
        "outputId": "f5f81577-d475-4d3e-d653-9047f2f22c5d"
      },
      "source": [
        "%%writefile string.cpp\n",
        "#include <iostream>\n",
        "using namespace std;\n",
        "\n",
        "int main(){\n",
        "    string shahzad = \"hello\";\n",
        "    cout << shahzad;\n",
        "    return 0;\n",
        "}\n"
      ],
      "execution_count": null,
      "outputs": [
        {
          "output_type": "stream",
          "name": "stdout",
          "text": [
            "Overwriting string.cpp\n"
          ]
        }
      ]
    },
    {
      "cell_type": "code",
      "source": [
        "!g++ string.cpp -o main\n",
        "!./main"
      ],
      "metadata": {
        "colab": {
          "base_uri": "https://localhost:8080/"
        },
        "id": "R6DBIGiNnH_0",
        "outputId": "25e7d685-991e-4934-a369-6ba3179aab38"
      },
      "execution_count": null,
      "outputs": [
        {
          "output_type": "stream",
          "name": "stdout",
          "text": [
            "hello"
          ]
        }
      ]
    },
    {
      "cell_type": "markdown",
      "source": [
        "#**Quiz**"
      ],
      "metadata": {
        "id": "DrjzEaJTnQK0"
      }
    },
    {
      "cell_type": "code",
      "source": [
        "# @title Default title text\n",
        "# Simple quiz in Google Colab - C++ Strings\n",
        "score = 0\n",
        "\n",
        "print(\"Welcome to the C++ Strings Quiz!\\n\")\n",
        "\n",
        "q1 = input(\"Q1: What is the correct data type to store text in C++?\\n(a) string\\n(b) int\\n(c) char\\nYour answer: \")\n",
        "if q1.lower() == \"a\":\n",
        "    score += 1\n",
        "\n",
        "q2 = input(\"\\nQ2: What does the following code output?\\nstring name = \\\"hello\\\";\\ncout << name;\\n(a) name\\n(b) hello\\n(c) error\\nYour answer: \")\n",
        "if q2.lower() == \"b\":\n",
        "    score += 1\n",
        "\n",
        "q3 = input(\"\\nQ3: Which character is used to escape to a new line in strings?\\n(a) \\\\n\\n(b) \\\\t\\n(c) //\\nYour answer: \")\n",
        "if q3.lower() == \"a\":\n",
        "    score += 1\n",
        "\n",
        "q4 = input(\"\\nQ4: Which header must be included to use string in C++?\\n(a) #include <text>\\n(b) #include <string>\\n(c) #include <stdio.h>\\nYour answer: \")\n",
        "if q4.lower() == \"b\":\n",
        "    score += 1\n",
        "\n",
        "print(f\"\\nYour final score is {score}/4 🎉\")\n"
      ],
      "metadata": {
        "cellView": "form",
        "id": "2tmjyU2VnQZ8"
      },
      "execution_count": null,
      "outputs": []
    },
    {
      "cell_type": "markdown",
      "metadata": {
        "id": "OV7wWFvR7tSO"
      },
      "source": [
        "# 5-**C++ Operators**\n",
        "In programming, an operator is a special symbol that tells the computer to perform an operation (such as addition, subtraction, comparison, etc.) on variables or values.\n",
        "\n",
        "For example:\n",
        "\n",
        "int sum = 5 + 3;   // here '+' is the operator that adds 5 and 3.\n",
        "\n",
        "\n"
      ]
    },
    {
      "cell_type": "markdown",
      "metadata": {
        "id": "ib_1YEkT9RSD"
      },
      "source": [
        "## 5.1**Arithmetic Operators**\n",
        "| Operator | Name           | What it does                           | Example        | Result                 |\n",
        "| -------- | -------------- | -------------------------------------- |           -------------- | ---------------------- |\n",
        "| `+`      | Addition       | Adds two numbers                       | `7 + 3`        | `10`                   |\n",
        "| `-`      | Subtraction    | Subtracts one number from another      | `7 - 3`        | `4`                    |\n",
        "| `*`      | Multiplication | Multiplies two numbers                 | `7 * 3`        | `21`                   |\n",
        "| `/`      | Division       | Divides one number by another          | `7 / 3`        | `2` (integer division) |\n",
        "| `%`      | Modulus        | Gives the **remainder** after division | `7 % 3`        | `1`                    |\n",
        "| `++`     | Increment      | Increases value by 1                   | `a++` or `++a` | depends on usage       |\n",
        "| `--`     | Decrement      | Decreases value by 1                   | `a--` or `--a` | depends on usage       |\n",
        "\n"
      ]
    },
    {
      "cell_type": "markdown",
      "source": [
        "## Example"
      ],
      "metadata": {
        "id": "ltJ7pKqRJEn8"
      }
    },
    {
      "cell_type": "code",
      "metadata": {
        "id": "QF_Q5Y-j9FNt",
        "colab": {
          "base_uri": "https://localhost:8080/"
        },
        "outputId": "d06dc8ff-4fae-4606-cded-35d7ac22151b"
      },
      "source": [
        "%%writefile operator.cpp\n",
        "#include <iostream>\n",
        "using namespace std;\n",
        "\n",
        "int main() {\n",
        "    int a = 7;\n",
        "    int b = 6;\n",
        "\n",
        "    cout << \"a = \" << a << \", b = \" << b << endl;\n",
        "    cout << \"a + b = \" << a + b << endl;\n",
        "    cout << \"a - b = \" << a - b << endl;\n",
        "    cout << \"a * b = \" << a * b << endl;\n",
        "    cout << \"a / b = \" << a / b << endl;\n",
        "    cout << \"a % b = \" << a % b << endl;\n",
        "\n",
        "    // Increment and Decrement\n",
        "    cout << \"++a = \" << ++a << endl;\n",
        "    cout << \"--b = \" << --b << endl;\n",
        "\n",
        "    return 0;\n",
        "}\n"
      ],
      "execution_count": null,
      "outputs": [
        {
          "output_type": "stream",
          "name": "stdout",
          "text": [
            "Writing operator.cpp\n"
          ]
        }
      ]
    },
    {
      "cell_type": "code",
      "source": [
        "!g++ operator.cpp  -o main\n",
        "!./main"
      ],
      "metadata": {
        "collapsed": true,
        "colab": {
          "base_uri": "https://localhost:8080/"
        },
        "id": "QNKFTpYgJZAO",
        "outputId": "f8528922-6db9-488d-fc4f-1612c4863f9a"
      },
      "execution_count": null,
      "outputs": [
        {
          "output_type": "stream",
          "name": "stdout",
          "text": [
            "a = 7, b = 6\n",
            "a + b = 13\n",
            "a - b = 1\n",
            "a * b = 42\n",
            "a / b = 1\n",
            "a % b = 1\n",
            "++a = 8\n",
            "--b = 5\n"
          ]
        }
      ]
    },
    {
      "cell_type": "markdown",
      "source": [
        "\n",
        "📝 Important:\n",
        "\n",
        "When you divide two integers in C++, the result is also an integer (fraction part is removed).\n",
        "\n",
        "7 / 3 will give 2 not 2.33.\n",
        "\n",
        "If you want decimal results, use float or double.\n"
      ],
      "metadata": {
        "id": "_E-SkS6nJtF6"
      }
    },
    {
      "cell_type": "markdown",
      "metadata": {
        "id": "36_WDdfkG1si"
      },
      "source": [
        "#**5.2Assignment Operators**\n",
        "\n",
        "Assignment operators are used to assign or store value to variable.\n",
        "\n",
        "\n",
        "\n",
        "\n",
        "\n",
        "| Operator | Example  | Same as     | Meaning                      |\n",
        "| -------- | -------- | ----------- | ---------------------------- |\n",
        "| `=`      | `x = 5`  | `x = 5`     | Assign 5 to x                |\n",
        "| `+=`     | `x += 3` | `x = x + 3` | Add 3 to x                   |\n",
        "| `-=`     | `x -= 3` | `x = x - 3` | Subtract 3 from x            |\n",
        "| `*=`     | `x *= 3` | `x = x * 3` | Multiply x by 3              |\n",
        "| `/=`     | `x /= 3` | `x = x / 3` | Divide x by 3                |\n",
        "| `%=`     | `x %= 3` | `x = x % 3` | Store the remainder of x ÷ 3 |\n"
      ]
    },
    {
      "cell_type": "markdown",
      "source": [
        "## Example"
      ],
      "metadata": {
        "id": "DFwzM_Pn6jpU"
      }
    },
    {
      "cell_type": "code",
      "metadata": {
        "id": "YGtKt_nMHE9b",
        "colab": {
          "base_uri": "https://localhost:8080/"
        },
        "outputId": "31ab1da7-fcb4-455d-abcc-b47c169c8508"
      },
      "source": [
        "%%writefile operator.cpp\n",
        "#include <iostream>\n",
        "using namespace std;\n",
        "\n",
        "int main() {\n",
        "    int x;     // Declare variable\n",
        "    x = 10;    // Assign value to x\n",
        "\n",
        "    cout << \"Initial value of x = \" << x << endl;\n",
        "\n",
        "    x += 5;  // same as x = x + 5\n",
        "    cout << \"After x += 5, x = \" << x << endl;\n",
        "\n",
        "    x -= 2;  // same as x = x - 2\n",
        "    cout << \"After x -= 2, x = \" << x << endl;\n",
        "\n",
        "    x *= 3;  // same as x = x * 3\n",
        "    cout << \"After x *= 3, x = \" << x << endl;\n",
        "\n",
        "    x /= 2;  // same as x = x / 2\n",
        "    cout << \"After x /= 2, x = \" << x << endl;\n",
        "\n",
        "    x %= 4;  // same as x = x % 4\n",
        "    cout << \"After x %= 4, x = \" << x << endl;\n",
        "\n",
        "    return 0;\n",
        "}"
      ],
      "execution_count": null,
      "outputs": [
        {
          "output_type": "stream",
          "name": "stdout",
          "text": [
            "Overwriting operator.cpp\n"
          ]
        }
      ]
    },
    {
      "cell_type": "code",
      "source": [
        "!g++ operator.cpp -o main\n",
        "!./main"
      ],
      "metadata": {
        "collapsed": true,
        "colab": {
          "base_uri": "https://localhost:8080/"
        },
        "id": "3CCQqWXGLpsr",
        "outputId": "8eb9acbb-3121-4a5d-b345-f9cba1b4b3ad"
      },
      "execution_count": null,
      "outputs": [
        {
          "output_type": "stream",
          "name": "stdout",
          "text": [
            "Initial value of x = 10\n",
            "After x += 5, x = 15\n",
            "After x -= 2, x = 13\n",
            "After x *= 3, x = 39\n",
            "After x /= 2, x = 19\n",
            "After x %= 4, x = 3\n"
          ]
        }
      ]
    },
    {
      "cell_type": "markdown",
      "source": [
        "💡 Why this is useful: Instead of writing x = x + 5, you can simply write x += 5. It’s shorter and cleaner."
      ],
      "metadata": {
        "id": "B2HJFXrkMETx"
      }
    },
    {
      "cell_type": "markdown",
      "metadata": {
        "id": "4mT7mGDzPAj4"
      },
      "source": [
        "## 5.3**Comparison Operators**\n",
        "\n",
        "\n",
        "Comparison operators are used to compare two values.\n",
        "\n",
        "If the comparison is true, C++ returns 1.\n",
        "\n",
        "If the comparison is false, it returns 0.\n",
        "\n",
        "| Operator | Name             | Example  | Meaning                     |\n",
        "| -------- | ---------------- | -------- | --------------------------- |\n",
        "| `==`     | Equal to         | `a == b` | true if a is equal to b     |\n",
        "| `!=`     | Not equal        | `a != b` | true if a is not equal to b |\n",
        "| `>`      | Greater than     | `a > b`  | true if a is greater than b |\n",
        "| `<`      | Less than        | `a < b`  | true if a is less than b    |\n",
        "| `>=`     | Greater or equal | `a >= b` | true if a ≥ b               |\n",
        "| `<=`     | Less or equal    | `a <= b` | true if a ≤ b               |\n"
      ]
    },
    {
      "cell_type": "markdown",
      "source": [
        "## Example"
      ],
      "metadata": {
        "id": "LNGl8gAU6zyj"
      }
    },
    {
      "cell_type": "code",
      "metadata": {
        "id": "2TozvDFGXyTG",
        "colab": {
          "base_uri": "https://localhost:8080/"
        },
        "outputId": "8f302d09-bc96-4173-872f-6c952fda3499"
      },
      "source": [
        "%%writefile operator.cpp\n",
        "#include <iostream>\n",
        "using namespace std;\n",
        "\n",
        "int main() {\n",
        "    int a = 5;\n",
        "    int b = 4;\n",
        "\n",
        "    cout << \"a = \" << a << \", b = \" << b << endl;\n",
        "\n",
        "    cout << \"a == b: \" << (a == b) << endl;  // false (0)\n",
        "    cout << \"a != b: \" << (a != b) << endl;  // true (1)\n",
        "    cout << \"a > b : \" << (a > b) << endl;   // true (1)\n",
        "    cout << \"a < b : \" << (a < b) << endl;   // false (0)\n",
        "    cout << \"a >= b: \" << (a >= b) << endl;  // true (1)\n",
        "    cout << \"a <= b: \" << (a <= b) << endl;  // false (0)\n",
        "\n",
        "    return 0;\n",
        "}"
      ],
      "execution_count": null,
      "outputs": [
        {
          "output_type": "stream",
          "name": "stdout",
          "text": [
            "Overwriting operator.cpp\n"
          ]
        }
      ]
    },
    {
      "cell_type": "code",
      "source": [
        "!g++ operator.cpp -o main\n",
        "!./main"
      ],
      "metadata": {
        "collapsed": true,
        "colab": {
          "base_uri": "https://localhost:8080/"
        },
        "id": "e2uuRJuGM36B",
        "outputId": "417f3798-0bfb-496b-e526-59c17630f510"
      },
      "execution_count": null,
      "outputs": [
        {
          "output_type": "stream",
          "name": "stdout",
          "text": [
            "a = 5, b = 4\n",
            "a == b: 0\n",
            "a != b: 1\n",
            "a > b : 1\n",
            "a < b : 0\n",
            "a >= b: 1\n",
            "a <= b: 0\n"
          ]
        }
      ]
    },
    {
      "cell_type": "markdown",
      "source": [
        "📝 Tip: You’ll use comparison operators a lot in conditions and loops (like if, while, etc.)."
      ],
      "metadata": {
        "id": "2DXZm8rxNDqB"
      }
    },
    {
      "cell_type": "markdown",
      "metadata": {
        "id": "3puBIFAu5rxI"
      },
      "source": [
        "##5.4**Logical Operators**\n",
        "\n",
        "Logical operators are used to combine multiple conditions.\n",
        "| Operator | Name | Description                                              | Example            | Result                                     |         |   |         |                       |\n",
        "| -------- | ---- | -------------------------------------------------------- | ------------------ | ------------------------------------------ | ------- | - | ------- | --------------------- |\n",
        "| `&&`     | AND  | True only if **both** conditions are true                | `(a > 2 && a < 7)` | `true` if both are true                    |         |   |         |                       |\n",
        "| `        |      | `                                                        | OR                 | True if **at least one** condition is true | `(b > 3 |   | b < 4)` | `true` if any is true |\n",
        "| `!`      | NOT  | Reverses the result (true becomes false, and vice versa) | `!(a == 3)`        | `false` if a==3                            |         |   |         |                       |\n",
        "\n",
        "\n"
      ]
    },
    {
      "cell_type": "markdown",
      "source": [
        "## Example"
      ],
      "metadata": {
        "id": "zyLQ-j9g697y"
      }
    },
    {
      "cell_type": "code",
      "metadata": {
        "id": "xRu7fBW06M60",
        "colab": {
          "base_uri": "https://localhost:8080/"
        },
        "outputId": "7286d3dd-f451-4c97-b61b-aeaa516b5b92"
      },
      "source": [
        "%%writefile operator.cpp\n",
        "#include <iostream>\n",
        "using namespace std;\n",
        "\n",
        "int main() {\n",
        "    int a = 3;\n",
        "    int b = 5;\n",
        "\n",
        "    cout << \"a = \" << a << \", b = \" << b << endl;\n",
        "\n",
        "    cout << \"(a > 2 && a < 7): \" << (a > 2 && a < 7) << \"  (True because both conditions are true)\" << endl;\n",
        "    cout << \"(b > 3 || b < 4): \" << (b > 3 || b < 4) << \"  (True because one condition is true)\" << endl;\n",
        "    cout << \"!(a == 3): \" << !(a == 3) << \"  (False because a == 3 is true, but we reversed it)\" << endl;\n",
        "\n",
        "    return 0;\n",
        "}\n"
      ],
      "execution_count": null,
      "outputs": [
        {
          "output_type": "stream",
          "name": "stdout",
          "text": [
            "Overwriting operator.cpp\n"
          ]
        }
      ]
    },
    {
      "cell_type": "code",
      "source": [
        "!g++ operator.cpp -o main\n",
        "!./main"
      ],
      "metadata": {
        "collapsed": true,
        "colab": {
          "base_uri": "https://localhost:8080/"
        },
        "id": "7E73qyGSNnSz",
        "outputId": "67947d52-e91d-47a6-904c-8d145eff807f"
      },
      "execution_count": null,
      "outputs": [
        {
          "output_type": "stream",
          "name": "stdout",
          "text": [
            "a = 3, b = 5\n",
            "(a > 2 && a < 7): 1  (True because both conditions are true)\n",
            "(b > 3 || b < 4): 1  (True because one condition is true)\n",
            "!(a == 3): 0  (False because a == 3 is true, but we reversed it)\n"
          ]
        }
      ]
    },
    {
      "cell_type": "markdown",
      "source": [
        "📝 Real life example:\n",
        "\n",
        "&& is like saying “I will go out if it’s not raining AND I have time.”\n",
        "\n",
        "|| is like saying “I will go out if it’s sunny OR my friend calls me.”"
      ],
      "metadata": {
        "id": "cDQIxghjN5Vr"
      }
    },
    {
      "cell_type": "markdown",
      "source": [
        "#Quiz"
      ],
      "metadata": {
        "id": "dVeglRFJ5-o0"
      }
    },
    {
      "cell_type": "code",
      "source": [
        "# @title Default title text\n",
        "# 🧠 Simple C++ Operators Quiz in Google Colab\n",
        "\n",
        "score = 0\n",
        "print(\"🎯 Welcome to the C++ Operators Quiz!\\n\")\n",
        "print(\"👉 Type the letter of the correct answer (a, b, c, or d)\\n\")\n",
        "\n",
        "# Q1\n",
        "q1 = input(\"Q1: In programming, what is an operator?\\n(a) A special symbol that performs an operation\\n(b) A variable name\\n(c) A function\\n(d) A comment\\nYour answer: \")\n",
        "if q1.lower() == \"a\":\n",
        "    score += 1\n",
        "\n",
        "# Q2\n",
        "q2 = input(\"\\nQ2: Which operator is used for addition in C++?\\n(a) -\\n(b) +\\n(c) *\\n(d) /\\nYour answer: \")\n",
        "if q2.lower() == \"b\":\n",
        "    score += 1\n",
        "\n",
        "# Q3\n",
        "q3 = input(\"\\nQ3: What will be the result of 7 / 3 in C++ (integer division)?\\n(a) 2.33\\n(b) 2\\n(c) 1\\n(d) 0\\nYour answer: \")\n",
        "if q3.lower() == \"b\":\n",
        "    score += 1\n",
        "\n",
        "# Q4\n",
        "q4 = input(\"\\nQ4: Which arithmetic operator returns the remainder of division?\\n(a) %\\n(b) +\\n(c) -\\n(d) /\\nYour answer: \")\n",
        "if q4.lower() == \"a\":\n",
        "    score += 1\n",
        "\n",
        "# Q5\n",
        "q5 = input(\"\\nQ5: Which assignment operator can be used instead of x = x + 5 ?\\n(a) x++\\n(b) x+=5\\n(c) x-=\\n(d) x==\\nYour answer: \")\n",
        "if q5.lower() == \"b\":\n",
        "    score += 1\n",
        "\n",
        "# Q6\n",
        "q6 = input(\"\\nQ6: What does the comparison operator '==' do?\\n(a) Checks if two values are equal\\n(b) Assigns value\\n(c) Subtracts numbers\\n(d) Multiplies numbers\\nYour answer: \")\n",
        "if q6.lower() == \"a\":\n",
        "    score += 1\n",
        "\n",
        "# Q7\n",
        "q7 = input(\"\\nQ7: Which logical operator returns true if BOTH conditions are true?\\n(a) || (OR)\\n(b) && (AND)\\n(c) ! (NOT)\\n(d) ==\\nYour answer: \")\n",
        "if q7.lower() == \"b\":\n",
        "    score += 1\n",
        "\n",
        "# Q8\n",
        "q8 = input(\"\\nQ8: What does the NOT (!) logical operator do?\\n(a) Adds numbers\\n(b) Divides values\\n(c) Reverses the result (true becomes false)\\n(d) None of these\\nYour answer: \")\n",
        "if q8.lower() == \"c\":\n",
        "    score += 1\n",
        "\n",
        "# Final Score\n",
        "print(f\"\\n✅ Your final score is {score}/8\")\n",
        "\n",
        "if score == 8:\n",
        "    print(\"🎉 Excellent! You know C++ operators very well!\")\n",
        "elif score >= 5:\n",
        "    print(\"👍 Good job! A little more practice and you'll master it.\")\n",
        "else:\n",
        "    print(\"💡 Keep learning. Review the operator section again and try once more.\")\n"
      ],
      "metadata": {
        "collapsed": true,
        "cellView": "form",
        "colab": {
          "base_uri": "https://localhost:8080/"
        },
        "id": "cw-e5SXz6BgM",
        "outputId": "68a75a3c-2551-4e6d-e417-0449bbbeb8b6"
      },
      "execution_count": null,
      "outputs": [
        {
          "output_type": "stream",
          "name": "stdout",
          "text": [
            "🎯 Welcome to the C++ Operators Quiz!\n",
            "\n",
            "👉 Type the letter of the correct answer (a, b, c, or d)\n",
            "\n",
            "Q1: In programming, what is an operator?\n",
            "(a) A special symbol that performs an operation\n",
            "(b) A variable name\n",
            "(c) A function\n",
            "(d) A comment\n",
            "Your answer: a\n",
            "\n",
            "Q2: Which operator is used for addition in C++?\n",
            "(a) -\n",
            "(b) +\n",
            "(c) *\n",
            "(d) /\n",
            "Your answer: a\n",
            "\n",
            "Q3: What will be the result of 7 / 3 in C++ (integer division)?\n",
            "(a) 2.33\n",
            "(b) 2\n",
            "(c) 1\n",
            "(d) 0\n",
            "Your answer: a\n",
            "\n",
            "Q4: Which arithmetic operator returns the remainder of division?\n",
            "(a) %\n",
            "(b) +\n",
            "(c) -\n",
            "(d) /\n",
            "Your answer: \n",
            "\n",
            "Q5: Which assignment operator can be used instead of x = x + 5 ?\n",
            "(a) x++\n",
            "(b) x+=5\n",
            "(c) x-=\n",
            "(d) x==\n",
            "Your answer: \n",
            "\n",
            "Q6: What does the comparison operator '==' do?\n",
            "(a) Checks if two values are equal\n",
            "(b) Assigns value\n",
            "(c) Subtracts numbers\n",
            "(d) Multiplies numbers\n",
            "Your answer: \n",
            "\n",
            "Q7: Which logical operator returns true if BOTH conditions are true?\n",
            "(a) || (OR)\n",
            "(b) && (AND)\n",
            "(c) ! (NOT)\n",
            "(d) ==\n",
            "Your answer: \n",
            "\n",
            "Q8: What does the NOT (!) logical operator do?\n",
            "(a) Adds numbers\n",
            "(b) Divides values\n",
            "(c) Reverses the result (true becomes false)\n",
            "(d) None of these\n",
            "Your answer: a\n",
            "\n",
            "✅ Your final score is 1/8\n",
            "💡 Keep learning. Review the operator section again and try once more.\n"
          ]
        }
      ]
    },
    {
      "cell_type": "markdown",
      "metadata": {
        "id": "oNfn7srVI-Dm"
      },
      "source": [
        "#6-**C++ Math**\n",
        "C++ provides many built-in math functions to make mathematical operations easier.\n",
        "These functions are part of the standard library and can help you:\n",
        "\n",
        "Find maximum or minimum values\n",
        "\n",
        "Calculate square roots\n",
        "\n",
        "Round numbers\n",
        "\n",
        "Find logarithms\n",
        "\n",
        "Work with absolute values, powers, etc.\n",
        "\n",
        "\n"
      ]
    },
    {
      "cell_type": "markdown",
      "metadata": {
        "id": "s_3xpRurJT0U"
      },
      "source": [
        "##6.1-**Max and min**\n",
        "The functions max(x, y) and min(x, y) return the larger or smaller of two values.\n",
        "\n",
        "| Function   | Description                            | Example     | Result |\n",
        "| ---------- | -------------------------------------- | ----------- | ------ |\n",
        "| `max(a,b)` | Returns the **larger** of two numbers  | `max(5, 2)` | `5`    |\n",
        "| `min(a,b)` | Returns the **smaller** of two numbers | `min(5, 2)` | `2`    |\n",
        "\n",
        "\n",
        " These functions are part of <algorithm> or <cmath> depending on the compiler, but they often work without extra headers."
      ]
    },
    {
      "cell_type": "markdown",
      "source": [
        "### Example"
      ],
      "metadata": {
        "id": "NAcqV96gElOK"
      }
    },
    {
      "cell_type": "code",
      "metadata": {
        "id": "cltZ1_XZJrn1",
        "colab": {
          "base_uri": "https://localhost:8080/"
        },
        "outputId": "92aa78c1-da14-456c-e6db-384c7bc46c04"
      },
      "source": [
        "%%writefile max.cpp\n",
        "#include <iostream>\n",
        "using namespace std;\n",
        "\n",
        "int main() {\n",
        "    int a = 2;\n",
        "    int b = 5;\n",
        "\n",
        "    cout << \"a = \" << a << \", b = \" << b << endl;\n",
        "\n",
        "    cout << \"The maximum value between a and b is: \" << max(a, b) << endl;\n",
        "    cout << \"The minimum value between a and b is: \" << min(a, b) << endl;\n",
        "\n",
        "    return 0;\n",
        "}\n",
        "\n"
      ],
      "execution_count": null,
      "outputs": [
        {
          "output_type": "stream",
          "name": "stdout",
          "text": [
            "Writing max.cpp\n"
          ]
        }
      ]
    },
    {
      "cell_type": "code",
      "source": [
        "!g++ max.cpp -o main\n",
        "!./main\n"
      ],
      "metadata": {
        "colab": {
          "base_uri": "https://localhost:8080/"
        },
        "id": "7EonXuy7ExHx",
        "outputId": "e67e375b-66b8-4b4b-9fee-509b8f2dac59"
      },
      "execution_count": null,
      "outputs": [
        {
          "output_type": "stream",
          "name": "stdout",
          "text": [
            "a = 2, b = 5\n",
            "The maximum value between a and b is: 5\n",
            "The minimum value between a and b is: 2\n"
          ]
        }
      ]
    },
    {
      "cell_type": "markdown",
      "source": [
        "📝 Note:\n",
        "\n",
        "* max() checks both numbers and returns the bigger one.\n",
        "\n",
        "* min() checks both numbers and returns the smaller one."
      ],
      "metadata": {
        "id": "R5EAshw5E-iy"
      }
    },
    {
      "cell_type": "markdown",
      "metadata": {
        "id": "St_cU5xGL37Y"
      },
      "source": [
        "##6.2-**math Header**\n",
        "\n",
        "The <cmath> library gives access to many useful math functions such as:\n",
        "\n",
        "| Function   | Description                       | Example      | Result |\n",
        "| ---------- | --------------------------------- | ------------ | ------ |\n",
        "| `sqrt(x)`  | Square root of `x`                | `sqrt(16)`   | `4`    |\n",
        "| `abs(x)`   | Absolute (positive) value of `x`  | `abs(-5)`    | `5`    |\n",
        "| `round(x)` | Rounds `x` to nearest integer     | `round(2.6)` | `3`    |\n",
        "| `ceil(x)`  | Rounds `x` **up**                 | `ceil(2.3)`  | `3`    |\n",
        "| `floor(x)` | Rounds `x` **down**               | `floor(2.9)` | `2`    |\n",
        "| `pow(x,y)` | `x` raised to power `y`           | `pow(2,3)`   | `8`    |\n",
        "| `log(x)`   | Natural logarithm of `x` (base e) | `log(1)`     | `0`    |\n",
        "\n",
        "👉 These are very useful in scientific and engineering programs.\n"
      ]
    },
    {
      "cell_type": "markdown",
      "source": [
        "## Example"
      ],
      "metadata": {
        "id": "q_-1WRo6HVtZ"
      }
    },
    {
      "cell_type": "code",
      "metadata": {
        "id": "jy6B6PNlMQMo",
        "colab": {
          "base_uri": "https://localhost:8080/"
        },
        "outputId": "5788e86d-9d60-4ec3-883f-00204476225c"
      },
      "source": [
        "%%writefile header.cpp\n",
        "#include <iostream>\n",
        "#include <cmath> // Required for math functions\n",
        "using namespace std;\n",
        "\n",
        "int main() {\n",
        "    double a = 4;\n",
        "    double b = -2;\n",
        "    double c = 2.6;\n",
        "\n",
        "    cout << \"a = \" << a << \", b = \" << b << \", c = \" << c << endl;\n",
        "\n",
        "    cout << \"Square root of a (sqrt): \" << sqrt(a) << endl;\n",
        "    cout << \"Absolute value of b (abs): \" << abs(b) << endl;\n",
        "    cout << \"Round c (round): \" << round(c) << endl;\n",
        "    cout << \"Round c up (ceil): \" << ceil(c) << endl;\n",
        "    cout << \"Round c down (floor): \" << floor(c) << endl;\n",
        "    cout << \"2 raised to power 3 (pow): \" << pow(2, 3) << endl;\n",
        "    cout << \"Natural log of 1 (log): \" << log(1) << endl;\n",
        "\n",
        "    return 0;\n",
        "}\n",
        "\n",
        "\n",
        "\n"
      ],
      "execution_count": null,
      "outputs": [
        {
          "output_type": "stream",
          "name": "stdout",
          "text": [
            "Writing header.cpp\n"
          ]
        }
      ]
    },
    {
      "cell_type": "code",
      "source": [
        "!g++ header.cpp -o main\n",
        "!./main"
      ],
      "metadata": {
        "colab": {
          "base_uri": "https://localhost:8080/"
        },
        "id": "oDWRZq0nHu7d",
        "outputId": "376ff19a-0952-404b-ef6b-0de10975346c"
      },
      "execution_count": null,
      "outputs": [
        {
          "output_type": "stream",
          "name": "stdout",
          "text": [
            "a = 4, b = -2, c = 2.6\n",
            "Square root of a (sqrt): 2\n",
            "Absolute value of b (abs): 2\n",
            "Round c (round): 3\n",
            "Round c up (ceil): 3\n",
            "Round c down (floor): 2\n",
            "2 raised to power 3 (pow): 8\n",
            "Natural log of 1 (log): 0\n"
          ]
        }
      ]
    },
    {
      "cell_type": "markdown",
      "source": [
        "📝 Explanations:\n",
        "\n",
        "* sqrt(4) → 2\n",
        "\n",
        "* abs(-2) → 2 (makes negative numbers positive)\n",
        "\n",
        "* round(2.6) → 3 (rounds to nearest integer)\n",
        "\n",
        "* ceil(2.6) → 3 (rounds up)\n",
        "\n",
        "* floor(2.6) → 2 (rounds down)\n",
        "\n",
        "* pow(2,3) → 8 (2 × 2 × 2)\n",
        "\n",
        "* log(1) → 0 (because natural log of 1 is always 0)"
      ],
      "metadata": {
        "id": "3Oo3AC-uH3Si"
      }
    },
    {
      "cell_type": "markdown",
      "source": [
        "#Quiz"
      ],
      "metadata": {
        "id": "4sq41bpPLcq9"
      }
    },
    {
      "cell_type": "code",
      "source": [
        "# @title Default title text\n",
        "# 🧮 C++ Math Quiz (Max, Min, and <cmath> Functions)\n",
        "\n",
        "score = 0\n",
        "print(\"🎯 Welcome to the C++ Math Quiz!\\n\")\n",
        "print(\"👉 Type the letter of the correct answer (a, b, c, or d)\\n\")\n",
        "\n",
        "# Q1\n",
        "q1 = input(\"Q1: Which function returns the LARGER of two numbers in C++?\\n(a) min(x, y)\\n(b) abs(x)\\n(c) max(x, y)\\n(d) sqrt(x)\\nYour answer: \")\n",
        "if q1.lower() == \"c\":\n",
        "    score += 1\n",
        "\n",
        "# Q2\n",
        "q2 = input(\"\\nQ2: What is the result of max(3, 7)?\\n(a) 7\\n(b) 3\\n(c) 10\\n(d) 0\\nYour answer: \")\n",
        "if q2.lower() == \"a\":\n",
        "    score += 1\n",
        "\n",
        "# Q3\n",
        "q3 = input(\"\\nQ3: Which C++ library provides math functions like sqrt(), pow(), and log()?\\n(a) <string>\\n(b) <iostream>\\n(c) <cmath>\\n(d) <vector>\\nYour answer: \")\n",
        "if q3.lower() == \"c\":\n",
        "    score += 1\n",
        "\n",
        "# Q4\n",
        "q4 = input(\"\\nQ4: What is the result of sqrt(16)?\\n(a) 8\\n(b) 4\\n(c) 2\\n(d) 16\\nYour answer: \")\n",
        "if q4.lower() == \"b\":\n",
        "    score += 1\n",
        "\n",
        "# Q5\n",
        "q5 = input(\"\\nQ5: What does the abs(x) function do?\\n(a) Finds the square root\\n(b) Rounds a number\\n(c) Returns the absolute (positive) value\\n(d) Finds the minimum\\nYour answer: \")\n",
        "if q5.lower() == \"c\":\n",
        "    score += 1\n",
        "\n",
        "# Q6\n",
        "q6 = input(\"\\nQ6: What will pow(2, 3) return?\\n(a) 5\\n(b) 6\\n(c) 8\\n(d) 9\\nYour answer: \")\n",
        "if q6.lower() == \"c\":\n",
        "    score += 1\n",
        "\n",
        "# Final Score\n",
        "print(f\"\\n✅ Your final score is {score}/6\")\n",
        "\n",
        "if score == 6:\n",
        "    print(\"🎉 Excellent! You mastered C++ Math functions!\")\n",
        "elif score >= 4:\n",
        "    print(\"👍 Good job! You're learning well.\")\n",
        "else:\n",
        "    print(\"💡 Keep practicing. Review the math section again and try once more.\")\n"
      ],
      "metadata": {
        "cellView": "form",
        "id": "UgGEyZ1nLc3k",
        "colab": {
          "base_uri": "https://localhost:8080/"
        },
        "collapsed": true,
        "outputId": "38242167-a15a-4626-c558-10945b64886c"
      },
      "execution_count": null,
      "outputs": [
        {
          "output_type": "stream",
          "name": "stdout",
          "text": [
            "🎯 Welcome to the C++ Math Quiz!\n",
            "\n",
            "👉 Type the letter of the correct answer (a, b, c, or d)\n",
            "\n",
            "Q1: Which function returns the LARGER of two numbers in C++?\n",
            "(a) min(x, y)\n",
            "(b) abs(x)\n",
            "(c) max(x, y)\n",
            "(d) sqrt(x)\n",
            "Your answer: a\n",
            "\n",
            "Q2: What is the result of max(3, 7)?\n",
            "(a) 7\n",
            "(b) 3\n",
            "(c) 10\n",
            "(d) 0\n",
            "Your answer: a\n",
            "\n",
            "Q3: Which C++ library provides math functions like sqrt(), pow(), and log()?\n",
            "(a) <string>\n",
            "(b) <iostream>\n",
            "(c) <cmath>\n",
            "(d) <vector>\n",
            "Your answer: c\n",
            "\n",
            "Q4: What is the result of sqrt(16)?\n",
            "(a) 8\n",
            "(b) 4\n",
            "(c) 2\n",
            "(d) 16\n",
            "Your answer: b\n",
            "\n",
            "Q5: What does the abs(x) function do?\n",
            "(a) Finds the square root\n",
            "(b) Rounds a number\n",
            "(c) Returns the absolute (positive) value\n",
            "(d) Finds the minimum\n",
            "Your answer: d\n",
            "\n",
            "Q6: What will pow(2, 3) return?\n",
            "(a) 5\n",
            "(b) 6\n",
            "(c) 8\n",
            "(d) 9\n",
            "Your answer: s\n",
            "\n",
            "✅ Your final score is 3/6\n",
            "💡 Keep practicing. Review the math section again and try once more.\n"
          ]
        }
      ]
    },
    {
      "cell_type": "markdown",
      "metadata": {
        "id": "XO3Vd6AoP_Fd"
      },
      "source": [
        "#7-**C++ Booleans**\n",
        "Very often in programming, you need a data type that can only have two possible values, such as:\n",
        "\n",
        "* ✅ YES / ❌ NO\n",
        "\n",
        "* 🔛 ON / 🔴 OFF\n",
        "\n",
        "* true / false\n",
        "\n",
        "For this, C++ provides the bool data type.\n",
        "\n",
        "* true is internally represented as 1\n",
        "\n",
        "* false is internally represented as 0.\n"
      ]
    },
    {
      "cell_type": "markdown",
      "source": [
        "### Example"
      ],
      "metadata": {
        "id": "2eueIqTGqydm"
      }
    },
    {
      "cell_type": "code",
      "metadata": {
        "id": "xU-JYtJvQ6A-",
        "colab": {
          "base_uri": "https://localhost:8080/"
        },
        "outputId": "cbb006ef-37de-4abe-cf63-8093c47f5c95"
      },
      "source": [
        "%%writefile booleans.cpp\n",
        "#include <iostream>\n",
        "using namespace std;\n",
        "\n",
        "int main() {\n",
        "    bool isRaining = true;\n",
        "    bool isSunny = false;\n",
        "\n",
        "    cout << \"Value of isRaining: \" << isRaining << endl; // Outputs 1\n",
        "    cout << \"Value of isSunny: \" << isSunny << endl;     // Outputs 0\n",
        "\n",
        "    return 0;\n",
        "}\n",
        "\n"
      ],
      "execution_count": null,
      "outputs": [
        {
          "output_type": "stream",
          "name": "stdout",
          "text": [
            "Overwriting booleans.cpp\n"
          ]
        }
      ]
    },
    {
      "cell_type": "code",
      "source": [
        "!g++ booleans.cpp -o main\n",
        "!./main"
      ],
      "metadata": {
        "collapsed": true,
        "colab": {
          "base_uri": "https://localhost:8080/"
        },
        "id": "GhfsLX5voxQb",
        "outputId": "e6632e5b-6428-4f1a-d047-82ca446a0037"
      },
      "execution_count": null,
      "outputs": [
        {
          "output_type": "stream",
          "name": "stdout",
          "text": [
            "Value of isRaining: 1\n",
            "Value of isSunny: 0\n"
          ]
        }
      ]
    },
    {
      "cell_type": "markdown",
      "source": [
        "📝 Note:\n",
        "By default, when printing a boolean value, C++ displays 1 for true and 0 for false."
      ],
      "metadata": {
        "id": "P7CBak5-qdIn"
      }
    },
    {
      "cell_type": "markdown",
      "metadata": {
        "id": "wmABHxPm9y04"
      },
      "source": [
        "##**7.1-Boolean Expression**\n",
        "* A Boolean expression is a C++ expression that returns either true or false depending on the result of a comparison or logical operation.\n",
        "\n",
        "* You can use a comparison operator, such as the greater than (>) operator to find out if an expression (or a variable) is true:"
      ]
    },
    {
      "cell_type": "markdown",
      "source": [
        "## Example"
      ],
      "metadata": {
        "id": "aMlJtV-trXxn"
      }
    },
    {
      "cell_type": "code",
      "metadata": {
        "id": "OtKusYp5_xcn",
        "colab": {
          "base_uri": "https://localhost:8080/"
        },
        "outputId": "62042865-90db-4240-9a32-3fb537b0fb89"
      },
      "source": [
        "%%writefile boolean.cpp\n",
        "#include <iostream>\n",
        "using namespace std;\n",
        "\n",
        "int main() {\n",
        "    int x = 5;\n",
        "    int y = 3;\n",
        "\n",
        "    cout << boolalpha;\n",
        "    cout << \"x > y : \" << (x > y) << endl;\n",
        "    cout << \"x < y : \" << (x < y) << endl;\n",
        "    cout << \"x == y: \" << (x == y) << endl;\n",
        "\n",
        "    return 0;\n",
        "}\n"
      ],
      "execution_count": null,
      "outputs": [
        {
          "output_type": "stream",
          "name": "stdout",
          "text": [
            "Overwriting boolean.cpp\n"
          ]
        }
      ]
    },
    {
      "cell_type": "code",
      "source": [
        "!g++ boolean.cpp -o main\n",
        "!./main\n"
      ],
      "metadata": {
        "colab": {
          "base_uri": "https://localhost:8080/"
        },
        "id": "_GOALTTnpUzt",
        "outputId": "6f1c5e1e-67ff-4e01-8f4d-ef3199a9b828"
      },
      "execution_count": null,
      "outputs": [
        {
          "output_type": "stream",
          "name": "stdout",
          "text": [
            "x > y : true\n",
            "x < y : false\n",
            "x == y: false\n"
          ]
        }
      ]
    },
    {
      "cell_type": "markdown",
      "source": [
        "✨ Summary:\n",
        "\n",
        "* bool holds only true or false.\n",
        "\n",
        "* By default, C++ prints true as 1 and false as 0.\n",
        "\n",
        "* Use boolalpha to print true / false as text.\n",
        "\n",
        "* Boolean expressions are very useful in decision making (if, while, etc.)."
      ],
      "metadata": {
        "id": "59wBeRJVrc59"
      }
    },
    {
      "cell_type": "markdown",
      "source": [
        "#Quiz"
      ],
      "metadata": {
        "id": "P3jFZ6eorrdN"
      }
    },
    {
      "cell_type": "code",
      "source": [
        "# @title Default title text\n",
        "# 🧠 Simple Quiz in Google Colab — C++ Booleans\n",
        "\n",
        "score = 0\n",
        "\n",
        "print(\"Welcome to the C++ Booleans Quiz!\\n\")\n",
        "\n",
        "# Q1\n",
        "Q1 = input(\"Q1: What is the output of the following code?\\n\"\n",
        "           \"bool a = true;\\n\"\n",
        "           \"cout << a;\\n\"\n",
        "           \"(a) true\\n(b) false\\n(c) 1\\n(d) 0\\nYour answer: \")\n",
        "\n",
        "if Q1.lower() == \"c\":\n",
        "    score += 1\n",
        "\n",
        "# Q2\n",
        "Q2 = input(\"\\nQ2: Which of the following statements about the bool data type is correct?\\n\"\n",
        "           \"(a) It can only hold 0 or 1.\\n\"\n",
        "           \"(b) It can hold only true or false values.\\n\"\n",
        "           \"(c) It can hold integers and strings.\\n\"\n",
        "           \"(d) It cannot be printed using cout.\\nYour answer: \")\n",
        "\n",
        "if Q2.lower() == \"b\":\n",
        "    score += 1\n",
        "\n",
        "# Q3\n",
        "Q3 = input(\"\\nQ3: What will be the output of the following code?\\n\"\n",
        "           \"int x = 10;\\nint y = 20;\\ncout << boolalpha << (x > y);\\n\"\n",
        "           \"(a) 1\\n(b) 0\\n(c) true\\n(d) false\\nYour answer: \")\n",
        "\n",
        "if Q3.lower() == \"d\":\n",
        "    score += 1\n",
        "\n",
        "# Q4\n",
        "Q4 = input(\"\\nQ4: What is the purpose of using boolalpha in C++?\\n\"\n",
        "           \"(a) Converts integers to booleans\\n\"\n",
        "           \"(b) Enables printing of true/false instead of 1/0\\n\"\n",
        "           \"(c) Changes a boolean variable to an integer\\n\"\n",
        "           \"(d) Compares two boolean variables\\nYour answer: \")\n",
        "\n",
        "if Q4.lower() == \"b\":\n",
        "    score += 1\n",
        "\n",
        "# Final Score\n",
        "print(f\"\\n✅ Your final score is {score}/4 🎉\")\n",
        "if score == 4:\n",
        "    print(\"Excellent! 🏆\")\n",
        "elif score >= 2:\n",
        "    print(\"Good job! 👍\")\n",
        "else:\n",
        "    print(\"Keep practicing 💪\")\n"
      ],
      "metadata": {
        "cellView": "form",
        "collapsed": true,
        "id": "vJ9t7ezurtlz",
        "outputId": "4e6b4b51-b7ee-42c2-981f-a695be727c94",
        "colab": {
          "base_uri": "https://localhost:8080/"
        }
      },
      "execution_count": null,
      "outputs": [
        {
          "output_type": "stream",
          "name": "stdout",
          "text": [
            "Welcome to the C++ Booleans Quiz!\n",
            "\n",
            "Q1: What is the output of the following code?\n",
            "bool a = true;\n",
            "cout << a;\n",
            "(a) true\n",
            "(b) false\n",
            "(c) 1\n",
            "(d) 0\n",
            "Your answer: a\n",
            "\n",
            "Q2: Which of the following statements about the bool data type is correct?\n",
            "(a) It can only hold 0 or 1.\n",
            "(b) It can hold only true or false values.\n",
            "(c) It can hold integers and strings.\n",
            "(d) It cannot be printed using cout.\n",
            "Your answer: b\n",
            "\n",
            "Q3: What will be the output of the following code?\n",
            "int x = 10;\n",
            "int y = 20;\n",
            "cout << boolalpha << (x > y);\n",
            "(a) 1\n",
            "(b) 0\n",
            "(c) true\n",
            "(d) false\n",
            "Your answer: \n",
            "\n",
            "Q4: What is the purpose of using boolalpha in C++?\n",
            "(a) Converts integers to booleans\n",
            "(b) Enables printing of true/false instead of 1/0\n",
            "(c) Changes a boolean variable to an integer\n",
            "(d) Compares two boolean variables\n",
            "Your answer: b\n",
            "\n",
            "✅ Your final score is 2/4 🎉\n",
            "Good job! 👍\n"
          ]
        }
      ]
    },
    {
      "cell_type": "markdown",
      "metadata": {
        "id": "2Eg5xpduAiJT"
      },
      "source": [
        "#**8-C++ Conditions and If Statements**\n",
        "C++ supports the usual logical conditions from mathematics:\n",
        "\n",
        "- Less than: a < b\n",
        "- Less than or equal to: a <= b\n",
        "- Greater than: a > b\n",
        "- Greater than or equal to: a >= b\n",
        "- Equal to a == b\n",
        "- Not Equal to: a != b\n",
        "- You can use these conditions to perform different actions for different decisions.\n",
        "\n",
        "C++ has the following conditional statements:\n",
        "\n",
        "- Use if to specify a block of code to be executed, if a specified condition is true\n",
        "- Use else to specify a block of code to be executed, if the same condition is false\n",
        "- Use else if to specify a new condition to test, if the first condition is false\n",
        "- Use switch to specify many alternative blocks of code to be executed\n"
      ]
    },
    {
      "cell_type": "markdown",
      "metadata": {
        "id": "HKZNKovpDNIN"
      },
      "source": [
        "##**8.1-The if Statement**\n",
        "Use the if statement to specify a block of C++ code to be executed if a condition is true."
      ]
    },
    {
      "cell_type": "code",
      "metadata": {
        "id": "NgeDTZNBDv5V",
        "colab": {
          "base_uri": "https://localhost:8080/"
        },
        "outputId": "9923abfd-7dbd-44a8-cbc1-6f744ab7d77d"
      },
      "source": [
        "%%writefile state.cpp\n",
        "#include <iostream>\n",
        "using namespace std;\n",
        "\n",
        "int main(){\n",
        "    if (5>10) {\n",
        "        cout <<\"20 is greater than 10\"<<endl;\n",
        "    }\n",
        "    cout <<\"main body exution\"<<endl;\n",
        "    return 0;\n",
        "}\n"
      ],
      "execution_count": 1,
      "outputs": [
        {
          "output_type": "stream",
          "name": "stdout",
          "text": [
            "Writing state.cpp\n"
          ]
        }
      ]
    },
    {
      "cell_type": "code",
      "source": [
        "!g++ state.cpp -o main\n",
        "!./main"
      ],
      "metadata": {
        "colab": {
          "base_uri": "https://localhost:8080/"
        },
        "id": "JEN14-AD3QWj",
        "outputId": "f38e2221-5121-49d6-d1cb-285942555dbd"
      },
      "execution_count": 2,
      "outputs": [
        {
          "output_type": "stream",
          "name": "stdout",
          "text": [
            "main body exution\n"
          ]
        }
      ]
    },
    {
      "cell_type": "markdown",
      "metadata": {
        "id": "_dL_5TeTfCJO"
      },
      "source": [
        "##**-8.2The else Statement**\n",
        "Use the else statement to specify a block of code to be executed if the condition is false."
      ]
    },
    {
      "cell_type": "code",
      "metadata": {
        "id": "Uky0BQRTfdip",
        "colab": {
          "base_uri": "https://localhost:8080/"
        },
        "outputId": "b09d8fbf-f0bf-4c1c-8c0c-bbabd1f8c801"
      },
      "source": [
        "%%writefile stat.cpp\n",
        "#include <iostream>\n",
        "using namespace std;\n",
        "\n",
        "int main() {\n",
        "  int time = 20;\n",
        "  if (time < 18) {\n",
        "    cout << \"Good day.\";\n",
        "  } else {\n",
        "    cout << \"Good evening.\";\n",
        "  }\n",
        "  return 0;\n",
        "}\n"
      ],
      "execution_count": 3,
      "outputs": [
        {
          "output_type": "stream",
          "name": "stdout",
          "text": [
            "Writing stat.cpp\n"
          ]
        }
      ]
    },
    {
      "cell_type": "code",
      "source": [
        "!g++ stat.cpp -o main\n",
        "!./main"
      ],
      "metadata": {
        "colab": {
          "base_uri": "https://localhost:8080/"
        },
        "id": "_ElBwguW3iJQ",
        "outputId": "30de2c0d-e76c-4c4f-d4c7-4d15cbcdaaa5"
      },
      "execution_count": 4,
      "outputs": [
        {
          "output_type": "stream",
          "name": "stdout",
          "text": [
            "Good evening."
          ]
        }
      ]
    },
    {
      "cell_type": "markdown",
      "metadata": {
        "id": "trLHD6JAfhmM"
      },
      "source": [
        "##**8.3-The else if Statement**\n",
        "Use the else if statement to specify a new condition if the first condition is false."
      ]
    },
    {
      "cell_type": "code",
      "metadata": {
        "id": "lXIGAjKrfxN2",
        "colab": {
          "base_uri": "https://localhost:8080/"
        },
        "outputId": "ac487e1b-52d0-466b-e2c9-51b25aa4011c"
      },
      "source": [
        "%%writefile state.cpp\n",
        "#include <iostream>\n",
        "using namespace std;\n",
        "\n",
        "int main() {\n",
        "  int time = 22;\n",
        "  if (time < 10) {\n",
        "    cout << \"Good morning.\";\n",
        "  } else if (time < 20) {\n",
        "    cout << \"Good day.\";\n",
        "  } else {\n",
        "    cout << \"Good evening.\";\n",
        "  }\n",
        "  return 0;\n",
        "}\n"
      ],
      "execution_count": 6,
      "outputs": [
        {
          "output_type": "stream",
          "name": "stdout",
          "text": [
            "Overwriting state.cpp\n"
          ]
        }
      ]
    },
    {
      "cell_type": "code",
      "source": [
        "!g++ state.cpp -o main\n",
        "!./main\n"
      ],
      "metadata": {
        "id": "Tnm4x3jx36On",
        "outputId": "ba01f95b-3c97-4404-9be1-08c9a815d4dc",
        "colab": {
          "base_uri": "https://localhost:8080/"
        }
      },
      "execution_count": 7,
      "outputs": [
        {
          "output_type": "stream",
          "name": "stdout",
          "text": [
            "Good evening."
          ]
        }
      ]
    },
    {
      "cell_type": "markdown",
      "metadata": {
        "id": "rd-BT8dqkJA-"
      },
      "source": [
        "#**9-C++ Switch Statements**\n",
        "Use the switch statement to select one of many code blocks to be executed.\n",
        "This is how it works:\n",
        "-  The switch expression is evaluated once\n",
        "- The value of the expression is compared with the values of each case\n",
        "- If there is a match, the associated block of code is executed\n",
        "- The break and default keywords are optional, and will be described later in this chapter"
      ]
    },
    {
      "cell_type": "code",
      "metadata": {
        "id": "N8cezjiflVKM",
        "colab": {
          "base_uri": "https://localhost:8080/"
        },
        "outputId": "f8f37451-1837-4980-ae4a-bfeb27fce1ef"
      },
      "source": [
        "%%writefile stat.cpp\n",
        "#include <iostream>\n",
        "using namespace std;\n",
        "\n",
        "int main(){\n",
        "    int day=9;\n",
        "    switch(day){\n",
        "     case 1:\n",
        "     cout <<\"monday\";\n",
        "     break;\n",
        "     case 2:\n",
        "     cout <<\"friday\";\n",
        "     break;\n",
        "     default:\n",
        "     cout <<\"no case matches\";\n",
        "    }\n",
        "    return 0;\n",
        "}\n"
      ],
      "execution_count": 8,
      "outputs": [
        {
          "output_type": "stream",
          "name": "stdout",
          "text": [
            "Overwriting stat.cpp\n"
          ]
        }
      ]
    },
    {
      "cell_type": "code",
      "source": [
        "!g++ stat.cpp -o main\n",
        "!./main\n"
      ],
      "metadata": {
        "id": "SvfuZoPm4eMH",
        "outputId": "5b684108-ea20-4171-8543-305fc545522b",
        "colab": {
          "base_uri": "https://localhost:8080/"
        }
      },
      "execution_count": 9,
      "outputs": [
        {
          "output_type": "stream",
          "name": "stdout",
          "text": [
            "no case matches"
          ]
        }
      ]
    },
    {
      "cell_type": "markdown",
      "metadata": {
        "id": "XjWGTtdroFAd"
      },
      "source": [
        "**The break Keyword**\n",
        "\n",
        "When C++ reaches a break keyword, it breaks out of the switch block.\n",
        "\n",
        "This will stop the execution of more code and case testing inside the block.\n",
        "\n",
        "When a match is found, and the job is done, it's time for a break. There is no need for more testing.\n",
        "\n",
        "A break can save a lot of execution time because it \"ignores\" the execution of all the rest of the code in the switch block."
      ]
    },
    {
      "cell_type": "markdown",
      "metadata": {
        "id": "wfRMqaU0oVQn"
      },
      "source": [
        "**The default Keyword**\n",
        "\n",
        "The default keyword specifies some code to run if there is no case match:"
      ]
    },
    {
      "cell_type": "markdown",
      "metadata": {
        "id": "IttS4YpGrBVI"
      },
      "source": [
        "#**10-Loop**\n",
        "Loops can execute a block of code as long as a specified condition is reached.\n",
        "\n",
        "Loops are handy because they save time, reduce errors, and they make code more readable.\n",
        "\n",
        "**While Loop**\n",
        "\n",
        "The while loop loops through a block of code as long as a specified condition is true:\n"
      ]
    },
    {
      "cell_type": "code",
      "metadata": {
        "id": "NFC8Fw2VtL0R"
      },
      "source": [
        "%%cu\n",
        "#include <iostream>\n",
        "using namespace std;\n",
        "\n",
        "int main(){\n",
        "    int i =0;\n",
        "    while (i<5){\n",
        "        cout <<\"shahzad\"<<\"\\n\";\n",
        "        i++;\n",
        "    }\n",
        "    return 0;\n",
        "}\n"
      ],
      "execution_count": null,
      "outputs": []
    },
    {
      "cell_type": "markdown",
      "metadata": {
        "id": "E4oJNt3SIO4c"
      },
      "source": [
        "##**10.1-The Do/While Loop**\n",
        " - The do/while loop is a variant of the while loop.\n",
        " -This loop will execute the code block once, before checking if the condition is true, then it will repeat the loop as long as the condition is true."
      ]
    },
    {
      "cell_type": "code",
      "metadata": {
        "id": "mxXHBJCbI0Oc"
      },
      "source": [
        "%%cu\n",
        "#include <iostream>\n",
        "using namespace std;\n",
        "\n",
        "int main(){\n",
        "    int i =9;\n",
        "    do{\n",
        "        cout <<\"shahzad\"<<\"\\n\";\n",
        "       i++;\n",
        "    }\n",
        "    while(i<5);\n",
        "    return 0;\n",
        "}\n"
      ],
      "execution_count": null,
      "outputs": []
    },
    {
      "cell_type": "markdown",
      "metadata": {
        "id": "zaDvDhvw34f0"
      },
      "source": [
        "##**10.2-C++ Break**\n",
        "The break statement can also be used to jump out of a loop.\n",
        "\n",
        "This example jumps out of the loop when i is equal to 4:"
      ]
    },
    {
      "cell_type": "code",
      "metadata": {
        "id": "mjFnE38z8wI1"
      },
      "source": [
        "%%cu\n",
        "#include <iostream>\n",
        "using namespace std;\n",
        "\n",
        "int main(){\n",
        "     for (int i = 0; i < 14; i++) {\n",
        "         if (i == 8){\n",
        "          break;\n",
        "         }\n",
        "    cout << i << \"\\n\";\n",
        "  }\n",
        "  return 0;\n",
        "}\n",
        "\n"
      ],
      "execution_count": null,
      "outputs": []
    },
    {
      "cell_type": "markdown",
      "metadata": {
        "id": "wFFSI7LWLKkv"
      },
      "source": [
        "##**10.3-C++ Continue**\n",
        "\n",
        "The continue statement breaks one iteration (in the loop), if a specified condition occurs, and continues with the next iteration in the loop."
      ]
    },
    {
      "cell_type": "code",
      "metadata": {
        "id": "mdZScBZ1NN2A"
      },
      "source": [
        "%%cu\n",
        "#include <iostream>\n",
        "using namespace std;\n",
        "\n",
        "int main(){\n",
        "    for (int i = 0; i < 12; i++) {\n",
        "        if (i == 7){\n",
        "            continue;\n",
        "        }\n",
        "        cout <<i<<\"\\n\";\n",
        "    }\n",
        "    return 0;\n",
        "}\n"
      ],
      "execution_count": null,
      "outputs": []
    },
    {
      "cell_type": "markdown",
      "metadata": {
        "id": "sUO8mXnI1CQ4"
      },
      "source": [
        "#**11-C++ Arrays**\n",
        "Arrays are used to store multiple values in a single variable, instead of declaring separate variables for each value.\n",
        "\n",
        "To declare an array, define the variable type, specify the name of the array followed by square brackets and specify the number of elements it should store:\n",
        "\n",
        "**string cars[4];**\n",
        "\n",
        "To create an array of three integers, you could write:\n",
        "**int myNum[3] = {10, 20, 30};**\n",
        "\n",
        "**Access the Elements of an Array**\n",
        "\n",
        "You access an array element by referring to the index number.\n",
        "\n",
        "This statement accesses the value of the first element in cars:\n",
        "\n",
        "string cars[4] = {\"Volvo\", \"BMW\", \"Ford\", \"Mazda\"};\n",
        "cout << cars[0];\n",
        "// Outputs Volvo"
      ]
    },
    {
      "cell_type": "code",
      "metadata": {
        "id": "iVAce0oW2QfL"
      },
      "source": [
        "%%cu\n",
        "#include <iostream>\n",
        "#include <string>\n",
        "using namespace std;\n",
        "\n",
        "int main() {\n",
        "    string Ali[4] = {\"ijaz\",\"hussain\", \"book\", \"work\"};\n",
        "    cout <<Ali[0];\n",
        "    return 0;\n",
        "}\n"
      ],
      "execution_count": null,
      "outputs": []
    },
    {
      "cell_type": "markdown",
      "metadata": {
        "id": "QNKJaeYNBSTl"
      },
      "source": [
        "**Change an Array Element**\n",
        "\n",
        "To change the value of a specific element, refer to the index number:"
      ]
    },
    {
      "cell_type": "code",
      "metadata": {
        "id": "40LhMn96BoJt"
      },
      "source": [
        "%%cu\n",
        "#include <iostream>\n",
        "using namespace std;\n",
        "\n",
        "int main() {\n",
        "    string hussain[4] = {\"ali\",\"abbas\",\"summar\",\"ayan\"};\n",
        "    hussain[0]=\"haya\";\n",
        "    cout <<hussain[0];\n",
        "    return 0;\n",
        "}"
      ],
      "execution_count": null,
      "outputs": []
    },
    {
      "cell_type": "markdown",
      "metadata": {
        "id": "vtTDrlMQDBZh"
      },
      "source": [
        "##**11.1-C++ Arrays and Loops**\n",
        "\n",
        "You can loop through the array elements with the for loop.\n",
        "\n",
        "The following example outputs all elements in the cars array:"
      ]
    },
    {
      "cell_type": "code",
      "metadata": {
        "id": "3RtCAVgWhI6w",
        "colab": {
          "base_uri": "https://localhost:8080/",
          "height": 35
        },
        "outputId": "ab8df575-a9a8-4493-9024-9bb0e8008121"
      },
      "source": [
        "%%cu\n",
        "#include <iostream>\n",
        "using namespace std;\n",
        "\n",
        "int main() {\n",
        "    int i;\n",
        "    string ali[4] = {\"shahzad\",\"sohail\",\"hamza\",\"haya\"};\n",
        "    for( i = 0; i < 4; i++) {\n",
        "        cout << i << \":\" <<ali[i] << \"\\n\";\n",
        "    }\n",
        "    return 0;\n",
        "}"
      ],
      "execution_count": null,
      "outputs": [
        {
          "output_type": "stream",
          "text": [
            "UsageError: Cell magic `%%cu` not found.\n"
          ],
          "name": "stderr"
        }
      ]
    },
    {
      "cell_type": "markdown",
      "metadata": {
        "id": "q_EnjMysmXtA"
      },
      "source": [
        "## **11.2-C++ Omit Array Size**\n",
        "\n",
        "You don't have to specify the size of the array. But if you don't, it will only be as big as the elements that are inserted into it:"
      ]
    },
    {
      "cell_type": "code",
      "metadata": {
        "id": "Dli714Hmm6I2",
        "colab": {
          "base_uri": "https://localhost:8080/",
          "height": 35
        },
        "outputId": "e4bd9f46-e90a-4dba-89e6-a79bcd2cc042"
      },
      "source": [
        "%%cu\n",
        "#include <iostream>\n",
        "using namespace std;\n",
        "\n",
        "int main() {\n",
        "    int i;\n",
        "    string ali[] = {\"hello\", \"world\",\"key\",\"school\"};\n",
        "    for(i =0; i < 4; i++) {\n",
        "        cout << i << \":\" <<ali[i] << \"\\n\";\n",
        "    }\n",
        "    return 0;\n",
        "}\n"
      ],
      "execution_count": null,
      "outputs": [
        {
          "output_type": "stream",
          "text": [
            "UsageError: Cell magic `%%cu` not found.\n"
          ],
          "name": "stderr"
        }
      ]
    },
    {
      "cell_type": "markdown",
      "metadata": {
        "id": "fPxquldAstcO"
      },
      "source": [
        "#**12-C++ References**\n",
        "\n",
        " A reference variable is a \"reference\" to an existing variable, and it is created with the & operator:"
      ]
    },
    {
      "cell_type": "code",
      "metadata": {
        "id": "lhANVR0-tZJJ"
      },
      "source": [
        "%%cu\n",
        "#include <iostream>\n",
        "using namespace std;\n",
        "\n",
        "int main() {\n",
        "    string ali = \"pizza\";\n",
        "    string &meal = ali;\n",
        "\n",
        "    cout << ali <<endl;\n",
        "    cout << meal <<endl;\n",
        "    return 0;\n",
        "}\n"
      ],
      "execution_count": null,
      "outputs": []
    },
    {
      "cell_type": "markdown",
      "metadata": {
        "id": "bYVQO3MQ6Mko"
      },
      "source": [
        "#**13-C++ Memory Address**\n",
        "\n",
        "In the example from the previous page, the & operator was used to create a reference variable. But it can also be used to get the memory address of a variable; which is the location of where the variable is stored on the computer.\n",
        "\n",
        "When a variable is created in C++, a memory address is assigned to the variable. And when we assign a value to the variable, it is stored in this memory address.\n",
        "\n",
        "To access it, use the & operator, and the result will represent where the variable is stored:"
      ]
    },
    {
      "cell_type": "code",
      "metadata": {
        "id": "UNIfawb86g7J"
      },
      "source": [
        "%%cu\n",
        "#include <iostream>\n",
        "using namespace std;\n",
        "\n",
        "int main() {\n",
        "    string food = \"pizza\";\n",
        "\n",
        "    cout <<&food;\n",
        "    return 0;\n",
        "}\n"
      ],
      "execution_count": null,
      "outputs": []
    },
    {
      "cell_type": "markdown",
      "metadata": {
        "id": "nUSGbwzilwYY"
      },
      "source": [
        "#**14-C++ Pointers**\n",
        "\n",
        "You learned from the previous chapter, that we can get the memory address of a variable by using the & operator:\n",
        "\n",
        "A pointer however, is a variable that stores the memory address as its value.\n",
        "\n",
        "\n",
        "A pointer variable points to a data type (like int or string) of the same type, and is created with the * operator. The address of the variable you're working with is assigned to the pointer:\n",
        "\n",
        "**Example explained**\n",
        "\n",
        "Create a pointer variable with the name ptr, that points to a string variable, by using the asterisk sign * (string* ptr). Note that the type of the pointer has to match the type of the variable you're working with.\n",
        "\n",
        "Use the & operator to store the memory address of the variable called food, and assign it to the pointer.\n",
        "\n",
        "Now, ptr holds the value of food's memory address."
      ]
    },
    {
      "cell_type": "code",
      "metadata": {
        "id": "OphkYtZz1bv7"
      },
      "source": [
        "%%cu\n",
        "#include <iostream>\n",
        "using namespace std;\n",
        " int main(){\n",
        "     string food = \"pizza\";\n",
        "     string* ptr = &food;\n",
        "\n",
        "     cout << food <<endl;\n",
        "     cout << &food <<endl;\n",
        "     cout << ptr <<endl;\n",
        "     return 0;\n",
        "     }\n"
      ],
      "execution_count": null,
      "outputs": []
    },
    {
      "cell_type": "markdown",
      "metadata": {
        "id": "APmm_FM2pPO0"
      },
      "source": [
        "#**15-C++ Functions**\n",
        "\n",
        "A function is a block of code which only runs when it is called.\n",
        "\n",
        "You can pass data, known as parameters, into a function.\n",
        "\n",
        "Functions are used to perform certain actions, and they are important for reusing code: Define the code once, and use it many times.\n",
        "\n",
        "**Create a Function**\n",
        "\n",
        "C++ provides some pre-defined functions, such as main(), which is used to execute code. But you can also create your own functions to perform certain actions.\n",
        "\n",
        "To create (often referred to as declare) a function, specify the name of the function, followed by parentheses ():\n",
        "\n",
        "**Syntax**\n",
        "\n",
        "void myFunction() {\n",
        "  // code to be executed\n",
        "}\n",
        "\n",
        "**Example Explained**\n",
        "\n",
        "- myFunction() is the name of the function\n",
        "- void means that the function does not have a return  value. You will learn more about return values later in the next chapter\n",
        "- inside the function (the body), add code that defines what the function should do\n",
        "\n",
        "**Call a Function**\n",
        "\n",
        "Declared functions are not executed immediately. They are \"saved for later use\", and will be executed later, when they are called.\n",
        "\n",
        "To call a function, write the function's name followed by two parentheses () and a semicolon ;\n",
        "\n",
        "In the following example, myFunction() is used to print a text (the action), when it is called:\n",
        "\n",
        "**Example**\n",
        "\n",
        "Inside main, call myFunction():\n",
        "\n",
        "\n"
      ]
    },
    {
      "cell_type": "code",
      "metadata": {
        "id": "SPwGjHqPsxGt"
      },
      "source": [
        "%%cu\n",
        "#include <iostream>\n",
        "using namespace std;\n",
        "\n",
        "void pakistan() {\n",
        "    cout << \"long live pakistan!\";\n",
        "}\n",
        "int main(){\n",
        "    cout <<\"first output\"<<endl;\n",
        "  pakistan();\n",
        "  cout <<\"second output\"<<endl;\n",
        "   pakistan();\n",
        "   return 0;\n",
        "}\n"
      ],
      "execution_count": null,
      "outputs": []
    },
    {
      "cell_type": "code",
      "metadata": {
        "id": "LPAjC4CYKhIr"
      },
      "source": [],
      "execution_count": null,
      "outputs": []
    },
    {
      "cell_type": "markdown",
      "metadata": {
        "id": "We-bD_i7JLuf"
      },
      "source": [
        "**Function Declaration and Definition**\n",
        "\n",
        "A C++ function consist of two parts:\n",
        "\n",
        "- Declaration: the function's name, return type, and parameters (if any)\n",
        "- Definition: the body of the function (code to be executed)\n",
        "\n",
        "Note: If a user-defined function, such as myFunction() is declared after the main() function, an error will occur. It is because C++ works from top to bottom; which means that if the function is not declared above main(), the program is unaware of it:\n"
      ]
    },
    {
      "cell_type": "code",
      "metadata": {
        "id": "fCZKZPw4KjGZ"
      },
      "source": [
        "%%cu\n",
        "#include <iostream>\n",
        "using namespace std;\n",
        "\n",
        "void myFunction() {\n",
        "  cout << \"I just got executed!\";\n",
        "}\n",
        "\n",
        "\n",
        "int main() {\n",
        "  myFunction();\n",
        "  return 0;\n",
        "}\n"
      ],
      "execution_count": null,
      "outputs": []
    },
    {
      "cell_type": "markdown",
      "metadata": {
        "id": "bPCJYXj8FrTF"
      },
      "source": [
        "##**15.1-C++ Function Parameters**\n",
        "\n",
        "Information can be passed to functions as a parameter. Parameters act as variables inside the function.\n",
        "\n",
        "Parameters are specified after the function name, inside the parentheses. You can add as many parameters as you want, just separate them with a comma:\n",
        "\n",
        "When a parameter is passed to the function, it is called an argument. So, from the example above: fname is a parameter, while Liam, Jenny and Anja are arguments."
      ]
    },
    {
      "cell_type": "code",
      "metadata": {
        "id": "q6zcI0JRGTsb"
      },
      "source": [
        "%%cu\n",
        "#include <iostream>\n",
        "using namespace std;\n",
        "\n",
        "void hussain(string word) {\n",
        "    cout << word <<endl;\n",
        "}\n",
        "    int main(){\n",
        "        hussain(\"school\");\n",
        "        hussain(\"book\");\n",
        "        hussain(\"pen\");\n",
        "        hussain(\"pencial\");\n",
        "        return 0;\n",
        "    }"
      ],
      "execution_count": null,
      "outputs": []
    },
    {
      "cell_type": "markdown",
      "metadata": {
        "id": "n5-qq5GCEhRu"
      },
      "source": [
        "##**15.2-C++ Default Parameters**\n",
        "\n",
        "You can also use a default parameter value, by using the equals sign (=).\n",
        "\n",
        "If we call the function without an argument, it uses the default value (\"Norway\"):\n",
        "\n",
        "A parameter with a default value, is often known as an \"optional parameter\". From the example above, country is an optional parameter and \"Norway\" is the default value."
      ]
    },
    {
      "cell_type": "code",
      "metadata": {
        "id": "R-QRTROFFF9u"
      },
      "source": [
        "%%cu\n",
        "#include <iostream>\n",
        "using namespace std;\n",
        "\n",
        "void shahzad(string name =\"haider\"){\n",
        "cout << name <<endl;\n",
        "}\n",
        "int main(){\n",
        "shahzad(\"haya\");\n",
        "shahzad(\"summar\");\n",
        "shahzad();\n",
        "shahzad(\"ayan\");\n",
        "return 0;\n",
        "}\n"
      ],
      "execution_count": null,
      "outputs": []
    },
    {
      "cell_type": "markdown",
      "metadata": {
        "id": "iBvuO9zTObed"
      },
      "source": [
        "##**15.3-C++ Multiple Parameters**\n",
        "\n",
        "Inside the function, you can add as many parameters as you want:\n",
        "\n",
        "Note that when you are working with multiple parameters, the function call must have the same number of arguments as there are parameters, and the arguments must be passed in the same order."
      ]
    },
    {
      "cell_type": "code",
      "metadata": {
        "id": "jA75IpobO1mk"
      },
      "source": [
        "%%cu\n",
        "#include <iostream>\n",
        "using namespace std;\n",
        "\n",
        "void work(string shahzad, int age) {\n",
        "     cout << shahzad << \" endl. \" << age << \" years old.endl\";\n",
        "}\n",
        "int main(){\n",
        "    work(\"haya\",5);\n",
        "    work(\"summar\",11);\n",
        "    work(\"mahdi\",4);\n",
        "    work(\"lahar\",10);\n",
        "    return 0;\n",
        "}\n"
      ],
      "execution_count": null,
      "outputs": []
    },
    {
      "cell_type": "markdown",
      "metadata": {
        "id": "GIJQufyY80xa"
      },
      "source": [
        "##**15.4-C++ The Return Keyword**\n",
        "\n",
        "The void keyword, used in the previous examples, indicates that the function should not return a value. If you want the function to return a value, you can use a data type (such as int, string, etc.) instead of void, and use the return keyword inside the function:"
      ]
    },
    {
      "cell_type": "code",
      "metadata": {
        "id": "NyToEurM9RtM",
        "colab": {
          "base_uri": "https://localhost:8080/",
          "height": 52
        },
        "outputId": "883f91f2-2f59-4ceb-b11d-7bac873a9182"
      },
      "source": [
        "%%cu\n",
        "#include <iostream>\n",
        "using namespace std;\n",
        "\n",
        "int world(int x, int y) {\n",
        "    int sum = x+y;\n",
        "    return sum;\n",
        "}\n",
        "int main(){\n",
        "    int finalsum = world(5 , 7);\n",
        "    cout <<finalsum<<endl;\n",
        "    return 0;\n",
        "}"
      ],
      "execution_count": null,
      "outputs": [
        {
          "output_type": "stream",
          "text": [
            "12\n",
            "\n"
          ],
          "name": "stdout"
        }
      ]
    },
    {
      "cell_type": "markdown",
      "metadata": {
        "id": "PQY0B5E5B4Ip"
      },
      "source": [
        "##**15.5-C++ Function Overloading**\n",
        "\n",
        "With function overloading, multiple functions can have the same name with different parameters:\n",
        "\n",
        "Instead of defining two functions that should do the same thing, it is better to overload one.\n",
        "\n",
        "In the example below, we overload the plusFunc function to work for both int and double:\n",
        "\n",
        "Note: Multiple functions can have the same name as long as the number and/or type of parameters are different."
      ]
    },
    {
      "cell_type": "code",
      "metadata": {
        "id": "iKnJVdmxNGcC",
        "colab": {
          "base_uri": "https://localhost:8080/",
          "height": 69
        },
        "outputId": "87aadcf6-2cd0-4df0-e48e-fc8e2fbffefc"
      },
      "source": [
        "%%cu\n",
        "#include <iostream>\n",
        "using namespace std;\n",
        "\n",
        "int myfunction(int x, int y) {\n",
        "    return  x + y;\n",
        "}\n",
        "double myfunction(double x, double y) {\n",
        "    return x + y;\n",
        "}\n",
        "int main(){\n",
        "    int number1 = myfunction(8 , 6);\n",
        "    double number2 = myfunction(5.5 , 2.5);\n",
        "    cout <<\"Int: \" << number1<<endl;\n",
        "    cout <<\"Double: \" <<number2<<endl;\n",
        "    return 0;\n",
        "}"
      ],
      "execution_count": null,
      "outputs": [
        {
          "output_type": "stream",
          "text": [
            "Int: 14\n",
            "Double: 8\n",
            "\n"
          ],
          "name": "stdout"
        }
      ]
    },
    {
      "cell_type": "markdown",
      "metadata": {
        "id": "x2B9CUQsagFb"
      },
      "source": [
        "#**16-C++ OOP**\n",
        "\n",
        "**C++ What is OOP?**\n",
        "\n",
        "OOP stands for Object-Oriented Programming.\n",
        "\n",
        "Procedural programming is about writing procedures or functions that perform operations on the data, while object-oriented programming is about creating objects that contain both data and functions.\n",
        "\n",
        "Object-oriented programming has several advantages over procedural programming:\n",
        "\n",
        "- OOP is faster and easier to execute\n",
        "- OOP provides a clear structure for the programs\n",
        "- OOP helps to keep the C++ code DRY \"Don't Repeat Yourself\", and makes the code easier to maintain, modify and debug\n",
        "- OOP makes it possible to create full reusable applications with less code and shorter development time.\n"
      ]
    },
    {
      "cell_type": "markdown",
      "metadata": {
        "id": "UFiLQeS-bXWQ"
      },
      "source": [
        "##**16.1-C++ What are Classes and Objects?**\n",
        "\n",
        "Classes and objects are the two main aspects of object-oriented programming.\n",
        "\n",
        "Look at the following illustration to see the difference between class and objects:\n",
        "\n",
        "So, a class is a template for objects, and an object is an instance of a class.\n",
        "\n",
        "When the individual objects are created, they inherit all the variables and functions from the class.\n",
        "\n",
        "You will learn much more about classes and objects in the next chapter."
      ]
    },
    {
      "cell_type": "markdown",
      "metadata": {
        "id": "6avXp3e6i0gy"
      },
      "source": [
        "![](https://drive.google.com/uc?export=view&id=1OiI0OM8SZDffAmtpczf56BYziR6f_b2T)"
      ]
    },
    {
      "cell_type": "markdown",
      "metadata": {
        "id": "0-yalxwvbwV_"
      },
      "source": [
        "##**16.2-C++ Classes and Objects**\n",
        "\n",
        " C++ is an object-oriented programming language.\n",
        "\n",
        "Everything in C++ is associated with classes and objects, along with its attributes and methods. For example: in real life, a car is an object. The car has attributes, such as weight and color, and methods, such as drive and brake.\n",
        "\n",
        "Attributes and methods are basically variables and functions that belongs to the class. These are often referred to as \"class members\".\n",
        "\n",
        "A class is a user-defined data type that we can use in our program, and it works as an object constructor, or a \"blueprint\" for creating objects.\n",
        "\n",
        "**Create a Class**\n",
        "To create a class, use the class keyword:\n",
        "Create a class called \"MyClass\":\n"
      ]
    },
    {
      "cell_type": "code",
      "metadata": {
        "id": "fkzkxwUccMSv"
      },
      "source": [
        "class MyClass {       // The class\n",
        "  public:             // Access specifier\n",
        "    int myNum;        // Attribute (int variable)\n",
        "    string myString;  // Attribute (string variable)\n",
        "};"
      ],
      "execution_count": null,
      "outputs": []
    },
    {
      "cell_type": "markdown",
      "metadata": {
        "id": "ikW440GpcXle"
      },
      "source": [
        "**Example explained**\n",
        "- The class keyword is used to create a class called MyClass.\n",
        "- The public keyword is an access specifier, which specifies that members (attributes and methods) of the class are accessible from outside the class. You will learn more about access specifiers later.\n",
        "\n",
        "- Inside the class, there is an integer variable myNum and a string variable myString. When variables are declared within a class, they are called attributes.\n",
        "\n",
        "- At last, end the class definition with a semicolon ;."
      ]
    },
    {
      "cell_type": "markdown",
      "metadata": {
        "id": "iFNDPAfEc6Vr"
      },
      "source": [
        "##**16.3-Create an Object**\n",
        "\n",
        "In C++, an object is created from a class. We have already created the class named MyClass, so now we can use this to create objects.\n",
        "\n",
        "To create an object of MyClass, specify the class name, followed by the object name.\n",
        "\n",
        "To access the class attributes (myNum and myString), use the dot syntax (.) on the object:\n",
        "\n",
        "**Example**\n",
        "Create an object called \"myObj\" and access the attributes:\n"
      ]
    },
    {
      "cell_type": "code",
      "metadata": {
        "id": "knHNJ5ixd38f"
      },
      "source": [
        "%%cu\n",
        "#include <iostream>\n",
        "using namespace std;\n",
        "\n",
        "class MyClass {       //  class\n",
        "  public:             //  specifier\n",
        "    int myNum;        // Attribute (int )\n",
        "    string myString;  // Attribute (string)\n",
        "};\n",
        "\n",
        "int main() {\n",
        "  MyClass myObj;  //  object of MyClass\n",
        "\n",
        "  // Access attributes and set values\n",
        "  myObj.myNum = 70;\n",
        "  myObj.myString = \"pakistan\";\n",
        "\n",
        "  // Print values\n",
        "  cout << myObj.myNum <<endl;\n",
        "  cout << myObj.myString <<endl;\n",
        "  return 0;\n",
        "}\n"
      ],
      "execution_count": null,
      "outputs": []
    },
    {
      "cell_type": "markdown",
      "metadata": {
        "id": "yw4fArnyUtQs"
      },
      "source": [
        "##**16.4-Multiple Objects**\n",
        "You can create multiple objects of one class:"
      ]
    },
    {
      "cell_type": "code",
      "metadata": {
        "id": "n5I0jPviVQV_"
      },
      "source": [
        "%%cu\n",
        "#include <iostream>\n",
        "using namespace std;\n",
        "\n",
        "class car {\n",
        "    public:\n",
        "    string brand;\n",
        "    string model;\n",
        "    int year;\n",
        "};\n",
        "\n",
        "int main(){\n",
        "    car carobj1;\n",
        "    carobj1.brand = \"BMW\";\n",
        "    carobj1.model = \"vvt\";\n",
        "    carobj1.year = 2002;\n",
        "\n",
        "    car carobj2;\n",
        "    carobj2.brand = \"toyota\";\n",
        "    carobj2.model = \"vvtr\";\n",
        "    carobj2.year = 2006;\n",
        "\n",
        "    cout << carobj1.brand << \" \" << carobj1.model << \" \" << carobj1.year <<endl;\n",
        "    cout << carobj2.brand << \" \" <<carobj2.model << \" \" << carobj2.year <<endl;\n",
        "    return 0;\n",
        "}"
      ],
      "execution_count": null,
      "outputs": []
    },
    {
      "cell_type": "markdown",
      "metadata": {
        "id": "YKs9jqr5ypCy"
      },
      "source": [
        "##**16.5-C++ Class Methods**\n",
        "Methods are functions that belongs to the class.\n",
        "\n",
        "There are two ways to define functions that belongs to a class:\n",
        "\n",
        "- Inside class definition\n",
        "- Outside class definition\n",
        "\n",
        "In the following example, we define a function inside the class, and we name it \"myMethod\".\n",
        "\n",
        "**Note**: You access methods just like you access attributes; by creating an object of the class and by using the dot syntax (.):"
      ]
    },
    {
      "cell_type": "markdown",
      "metadata": {
        "id": "8tNhfq4re__H"
      },
      "source": [
        "**inside**"
      ]
    },
    {
      "cell_type": "code",
      "metadata": {
        "id": "sm1ZZJQ9roBY",
        "colab": {
          "base_uri": "https://localhost:8080/",
          "height": 35
        },
        "outputId": "f230050b-58be-4e4a-8dac-36ac88010d4f"
      },
      "source": [
        "%%cu\n",
        "#include <iostream>\n",
        "using namespace std;\n",
        "\n",
        "class pakistan {\n",
        "    public:\n",
        "    void mymethod() {\n",
        "        cout <<\"pakistani people\";\n",
        "    }\n",
        "    };\n",
        "    int main() {\n",
        "        pakistan myobj;\n",
        "        myobj.mymethod();\n",
        "        return 0;\n",
        "    }\n"
      ],
      "execution_count": null,
      "outputs": [
        {
          "output_type": "stream",
          "text": [
            "pakistani people\n"
          ],
          "name": "stdout"
        }
      ]
    },
    {
      "cell_type": "markdown",
      "metadata": {
        "id": "30mXZ2RhfOZq"
      },
      "source": [
        "**0utside example**"
      ]
    },
    {
      "cell_type": "code",
      "metadata": {
        "id": "8ypQq7r9gS4b"
      },
      "source": [
        "%%cu\n",
        "#include <iostream>\n",
        "using namespace std;\n",
        "\n",
        "class myclass {\n",
        "    public:\n",
        "    void mymethod();\n",
        "};\n",
        "void myclass::mymethod(){\n",
        "    cout << \"pakistan\";\n",
        "}\n",
        " int main(){\n",
        "     myclass myobj;\n",
        "     myobj.mymethod();\n",
        "     return 0;\n",
        " }"
      ],
      "execution_count": null,
      "outputs": []
    },
    {
      "cell_type": "markdown",
      "metadata": {
        "id": "TjfHMajLi1Dm"
      },
      "source": [
        "#**17-C++ Constructors**\n",
        "\n",
        "A constructor in C++ is a special method that is automatically called when an object of a class is created.\n",
        "\n",
        "To create a constructor, use the same name as the class, followed by parentheses ():"
      ]
    },
    {
      "cell_type": "code",
      "metadata": {
        "id": "3AvaEXu2-QxC",
        "colab": {
          "base_uri": "https://localhost:8080/",
          "height": 35
        },
        "outputId": "0f95d523-49db-4d10-ce74-0d3caf355cd5"
      },
      "source": [
        "%%cu\n",
        "#include <iostream>\n",
        "using namespace std;\n",
        "\n",
        "class shahzad {     // class\n",
        "  public:           //  specifier\n",
        "    shahzad() {     // Constructor\n",
        "      cout << \"Hello World!\";\n",
        "    }\n",
        "};\n",
        "\n",
        "int main() {\n",
        "  shahzad myObj;    // this will call the constructor\n",
        "  return 0;\n",
        "}\n"
      ],
      "execution_count": null,
      "outputs": [
        {
          "output_type": "stream",
          "text": [
            "UsageError: Cell magic `%%cu` not found.\n"
          ],
          "name": "stderr"
        }
      ]
    },
    {
      "cell_type": "markdown",
      "metadata": {
        "id": "_F28EhuSu1eD"
      },
      "source": [
        "#**17.1-Constructor Parameters**\n",
        "\n",
        "Constructors can also take parameters (just like regular functions), which can be useful for setting initial values for attributes.\n",
        "\n",
        "The following class have brand, model and year attributes, and a constructor with different parameters. Inside the constructor we set the attributes equal to the constructor parameters (brand=x, etc). When we call the constructor (by creating an object of the class), we pass parameters to the constructor, which will set the value of the corresponding attributes to the same:"
      ]
    },
    {
      "cell_type": "code",
      "metadata": {
        "id": "Xn431nakKXzT"
      },
      "source": [
        "%%cu\n",
        "#include <iostream>\n",
        "using namespace std;\n",
        "\n",
        "class Car {        //  class\n",
        "  public:          //  specifier\n",
        "    string brand;  // Attribute\n",
        "    string model;  // Attribute\n",
        "    int year;      // Attribute\n",
        "    Car(string x, string y, int z) {  // Constructor with parameters\n",
        "      brand = x;\n",
        "      model = y;\n",
        "      year = z;\n",
        "    }\n",
        "};\n",
        "\n",
        "int main() {\n",
        "  // Create Car objects and call the constructor with different values\n",
        "  Car carObj1(\"toyota\", \"vvt\", 2006);\n",
        "  Car carObj2(\"honda\", \"vvtr\", 2012);\n",
        "\n",
        "  // Print values\n",
        "  cout << carObj1.brand << \" \" << carObj1.model << \" \" << carObj1.year << endl;\n",
        "  cout << carObj2.brand << \" \" << carObj2.model << \" \" << carObj2.year << endl;\n",
        "  return 0;\n",
        "}\n"
      ],
      "execution_count": null,
      "outputs": []
    },
    {
      "cell_type": "markdown",
      "metadata": {
        "id": "aNN7SeiV-53A"
      },
      "source": [
        "#**18-C++ Access Specifiers**\n",
        "By now, you are quite familiar with the public keyword that appears in all of our class examples:\n",
        "\n",
        "The public keyword is an access specifier. Access specifiers define how the members (attributes and methods) of a class can be accessed. In the example above, the members are public - which means that they can be accessed and modified from outside the code.\n",
        "\n",
        "However, what if we want members to be private and hidden from the outside world?\n",
        "\n",
        "In C++, there are three access specifiers:\n",
        "\n",
        "- public - members are accessible from outside the class\n",
        "- private - members cannot be accessed (or viewed) from outside the class\n",
        "- protected - members cannot be accessed from outside the class, however, they can be accessed in inherited classes. You will learn more about Inheritance later.\n",
        "\n",
        "In the following example, we demonstrate the differences between public and private members:"
      ]
    },
    {
      "cell_type": "code",
      "metadata": {
        "id": "q1lHdkf0_8pS",
        "colab": {
          "base_uri": "https://localhost:8080/",
          "height": 35
        },
        "outputId": "f4166a20-ea26-4a8b-8800-95eb999da2d8"
      },
      "source": [
        "%%cu\n",
        "#include <iostream>\n",
        "using namespace std;\n",
        "\n",
        "class myclass{     // class\n",
        "    public:        // public acccess specifier\n",
        "    int x;         // attributes\n",
        "    private:      // private access specifier\n",
        "    int y;         // attributes\n",
        "\n",
        "};\n",
        "\n",
        "int main() {\n",
        "  myclass myObj;\n",
        "  myObj.x = 90;\n",
        "  //myObj.y = 60;\n",
        "  return 0;\n",
        "}\n"
      ],
      "execution_count": null,
      "outputs": [
        {
          "output_type": "stream",
          "text": [
            "\n"
          ],
          "name": "stdout"
        }
      ]
    },
    {
      "cell_type": "markdown",
      "metadata": {
        "id": "wrzNmUoEKkc0"
      },
      "source": [
        "#**18-C++ Encapsulation**\n",
        "\n",
        " The meaning of Encapsulation, is to make sure that \"sensitive\" data is hidden from users. To achieve this, you must declare class variables/attributes as private (cannot be accessed from outside the class). If you want others to read or modify the value of a private member, you can provide public get and set methods.\n",
        "\n",
        " **Access Private Members**\n",
        "\n",
        "\n",
        "To access a private attribute, use public \"get\" and \"set\" methods:\n",
        "\n",
        "**Example explained**\n",
        "The salary attribute is private, which have restricted access.\n",
        "\n",
        "The public setSalary() method takes a parameter (s) and assigns it to the salary attribute (salary = s).\n",
        "\n",
        "The public getSalary() method returns the value of the private salary attribute.\n",
        "\n",
        "Inside main(), we create an object of the Employee class. Now we can use the setSalary() method to set the value of the private attribute to 50000. Then we call the getSalary() method on the object to return the value."
      ]
    },
    {
      "cell_type": "code",
      "metadata": {
        "id": "LZUtxrMBLG0Q"
      },
      "source": [
        "%%cu\n",
        "#include <iostream>\n",
        "using namespace std;\n",
        "\n",
        "class Employee {\n",
        "  private:\n",
        "    int salary;\n",
        "\n",
        "  public:\n",
        "    void setSalary(int s) {\n",
        "      salary = s;\n",
        "    }\n",
        "    int getSalary() {\n",
        "      return salary;\n",
        "    }\n",
        "};\n",
        "\n",
        "int main() {\n",
        "  Employee myObj;\n",
        "  myObj.setSalary(20000);\n",
        "  cout << myObj.getSalary();\n",
        "  return 0;\n",
        "}\n"
      ],
      "execution_count": null,
      "outputs": []
    },
    {
      "cell_type": "markdown",
      "metadata": {
        "id": "p_UUoBOcIPgl"
      },
      "source": [
        "#**19-C++ Inheritance**\n",
        "\n",
        "In C++, it is possible to inherit attributes and methods from one class to another. We group the \"inheritance concept\" into two categories:\n",
        "\n",
        "- derived class (child) - the class that inherits from another class\n",
        "- base class (parent) - the class being inherited from\n",
        "To inherit from a class, use the : symbol.\n",
        "\n",
        "In the example below, the Car class (child) inherits the attributes and methods from the Vehicle class (parent):"
      ]
    },
    {
      "cell_type": "code",
      "metadata": {
        "id": "f9VJ1RBkIiaR"
      },
      "source": [
        "%%cu\n",
        "#include <iostream>\n",
        "using namespace std;\n",
        "\n",
        "// Base class\n",
        "class Vehicle {\n",
        "  public:\n",
        "    string brand = \"toyota\";\n",
        "    void honk() {\n",
        "      cout << \"Tuut, tuut\"<<endl;\n",
        "    }\n",
        "};\n",
        "\n",
        "// Derived class\n",
        "class Car: public Vehicle {\n",
        "  public:\n",
        "    string model = \"Mustang\";\n",
        "};\n",
        "\n",
        "int main() {\n",
        "  Car myCar;\n",
        "  myCar.honk();\n",
        "  cout << myCar.brand + \" \" + myCar.model;\n",
        "  return 0;\n",
        "}\n",
        "\n"
      ],
      "execution_count": null,
      "outputs": []
    },
    {
      "cell_type": "markdown",
      "metadata": {
        "id": "5la1foDEJBf1"
      },
      "source": [
        "##**19.1-C++ Multilevel Inheritance**\n",
        "\n",
        " class can also be derived from one class, which is already derived from another class.\n",
        "\n",
        "In the following example, MyGrandChild is derived from class MyChild (which is derived from MyClass)"
      ]
    },
    {
      "cell_type": "code",
      "metadata": {
        "id": "dgrXvg5aJXZM"
      },
      "source": [
        "%%cu\n",
        "#include <iostream>\n",
        "using namespace std;\n",
        "\n",
        "// Parent class\n",
        "class MyClass {\n",
        "  public:\n",
        "    void myFunction() {\n",
        "      cout << \"Some content in parent class.\" ;\n",
        "    }\n",
        "};\n",
        "\n",
        "// Child class\n",
        "class MyChild: public MyClass {\n",
        "};\n",
        "\n",
        "// Grandchild class\n",
        "class MyGrandChild: public MyChild {\n",
        "};\n",
        "\n",
        "int main() {\n",
        "  MyGrandChild myObj;\n",
        "  myObj.myFunction();\n",
        "  return 0;\n",
        "}\n"
      ],
      "execution_count": null,
      "outputs": []
    },
    {
      "cell_type": "markdown",
      "metadata": {
        "id": "-K-eaTkjYOs7"
      },
      "source": [
        "##**19.2-Multiple Inheritance**\n",
        "\n",
        "A class can also be derived from more than one base class, using a comma-separated list:"
      ]
    },
    {
      "cell_type": "code",
      "metadata": {
        "id": "B5M8sy3SYm9g"
      },
      "source": [
        "%%cu\n",
        "#include <iostream>\n",
        "using namespace std;\n",
        "\n",
        "class myclass {\n",
        "    public:\n",
        "    void myfunction() {\n",
        "        cout <<\"shahzad hussain\"<<endl;\n",
        "    }\n",
        "};\n",
        "class myotherclass {\n",
        "    public:\n",
        "    void myotherfunction(){\n",
        "        cout <<\"pakistan\"<<endl;\n",
        "    }\n",
        "};\n",
        "class mychildclass:public myclass,public myotherclass{\n",
        "\n",
        "};\n",
        "int main() {\n",
        "    mychildclass myobj;\n",
        "    myobj.myfunction();\n",
        "    myobj.myotherfunction();\n",
        "    return 0;\n",
        "}"
      ],
      "execution_count": null,
      "outputs": []
    },
    {
      "cell_type": "markdown",
      "metadata": {
        "id": "iknD_cDNhdry"
      },
      "source": [
        "#**19.3-Access Specifiers**\n",
        "\n",
        "You learned from the Access Specifiers chapter that there are three specifiers available in C++. Until now, we have only used public (members of a class are accessible from outside the class) and private (members can only be accessed within the class). The third specifier, protected, is similar to private, but it can also be accessed in the inherited class:"
      ]
    },
    {
      "cell_type": "code",
      "metadata": {
        "id": "6TdQDC7GEN2_"
      },
      "source": [
        "%%cu\n",
        "#include <iostream>\n",
        "using namespace std;\n",
        "\n",
        "// Base class\n",
        "class Employee  {\n",
        "  protected:  // Protected access specifier\n",
        "    int salary;\n",
        "};\n",
        "\n",
        "// Derived class\n",
        "class Programmer: public Employee {\n",
        "  public:\n",
        "    int bonus;\n",
        "    void setSalary(int s) {\n",
        "      salary = s;\n",
        "    }\n",
        "    int getSalary() {\n",
        "      return salary;\n",
        "    }\n",
        "};\n",
        "\n",
        "int main() {\n",
        "  Programmer myObj;\n",
        "  myObj.setSalary(70000);\n",
        "  myObj.bonus = 1500;\n",
        "  cout << \"Salary: \" << myObj.getSalary() << \"\\n\";\n",
        "  cout << \"Bonus: \" << myObj.bonus << \"\\n\";\n",
        "  return 0;\n",
        "}\n"
      ],
      "execution_count": null,
      "outputs": []
    },
    {
      "cell_type": "markdown",
      "metadata": {
        "id": "IJgVGG4OglE2"
      },
      "source": [
        "#**20-Polymorphism**\n",
        "\n",
        "Polymorphism means \"many forms\", and it occurs when we have many classes that are related to each other by inheritance.\n",
        "\n",
        "Like we specified in the previous chapter; Inheritance lets us inherit attributes and methods from another class. Polymorphism uses those methods to perform different tasks. This allows us to perform a single action in different ways.\n",
        "\n",
        "For example, think of a base class called Animal that has a method called animalSound(). Derived classes of Animals could be Pigs, Cats, Dogs, Birds - And they also have their own implementation of an animal sound (the pig oinks, and the cat meows, etc.):\n",
        "\n",
        "Remember from the Inheritance chapter that we use the : symbol to inherit from a class.\n",
        "\n",
        "Now we can create Pig and Dog objects and override the animalSound() method:"
      ]
    },
    {
      "cell_type": "code",
      "metadata": {
        "id": "PqCHO3i1hHiT"
      },
      "source": [
        "%%cu\n",
        "#include <iostream>\n",
        "using namespace std;\n",
        "\n",
        "class animal{\n",
        "    public:\n",
        "    void animalsound(){\n",
        "        cout <<\"animal make a sound\"<<endl;\n",
        "    }\n",
        "};\n",
        "class pig:public animal{\n",
        "    public:\n",
        "    void animalsound(){\n",
        "        cout <<\"sound of wildforest\"<<endl;\n",
        "    }\n",
        "};\n",
        "class dog: public animal{\n",
        "    public:\n",
        "    void animalsound(){\n",
        "        cout <<\"sound of gangal\"<<endl;\n",
        "    }\n",
        "};\n",
        "\n",
        "int main(){\n",
        "    animal myanimal;\n",
        "    pig mypig;\n",
        "    dog mydog;\n",
        "\n",
        "    myanimal.animalsound();\n",
        "    mypig.animalsound();\n",
        "    mydog.animalsound();\n",
        "    return 0;\n",
        "\n",
        "}"
      ],
      "execution_count": null,
      "outputs": []
    },
    {
      "cell_type": "markdown",
      "metadata": {
        "id": "JrbtBoIiWTUX"
      },
      "source": [
        "#**Reference**\n",
        "C++ Tutorial\n",
        "https://www.w3schools.com/cpp/cpp_strings.asp\n",
        "\n",
        "https://www.learn-cpp.org/en/Variables_and_Types\n",
        "\n",
        "How to Run CUDA C or C++ on Jupyter (Google Colab)\n",
        "\n",
        "https://www.wikihow.com/Run-CUDA-C-or-C%2B%2B-on-Jupyter-(Google-Colab)\n",
        "\n",
        "Code block\n",
        "http://www.codeblocks.org/downloads/26\n",
        "\n",
        "Freebootcamp\n",
        "https://www.freecodecamp.org/\n",
        "\n",
        "ntroduction to C++ Programming in Urdu\n",
        "https://www.youtube.com/watch?v=dnCO124Uk1o\n",
        "\n",
        "6 Sentiment Analysis Projects with Python\n",
        "\n",
        "https://amankharwal.medium.com/6-sentiment-analysis-projects-with-python-1fdd3d43d90f"
      ]
    }
  ]
}