{
  "nbformat": 4,
  "nbformat_minor": 0,
  "metadata": {
    "colab": {
      "name": "Basic of C++.ipynb",
      "provenance": [],
      "toc_visible": true,
      "authorship_tag": "ABX9TyMx+1w7vwJXdMq35H5dj/Kh",
      "include_colab_link": true
    },
    "kernelspec": {
      "name": "python3",
      "display_name": "Python 3"
    },
    "accelerator": "GPU"
  },
  "cells": [
    {
      "cell_type": "markdown",
      "metadata": {
        "id": "view-in-github",
        "colab_type": "text"
      },
      "source": [
        "<a href=\"https://colab.research.google.com/github/hussain0048/C-/blob/master/Basic_of_C%2B%2B.ipynb\" target=\"_parent\"><img src=\"https://colab.research.google.com/assets/colab-badge.svg\" alt=\"Open In Colab\"/></a>"
      ]
    },
    {
      "cell_type": "code",
      "metadata": {
        "id": "2HT0jogV8WLR",
        "colab_type": "code",
        "colab": {}
      },
      "source": [
        "!apt-get --purge remove cuda nvidia* libnvidia-*\n",
        "!dpkg -l | grep cuda- | awk '{print $2}' | xargs -n1 dpkg --purge\n",
        "!apt-get remove cuda-*\n",
        "!apt autoremove\n",
        "!apt-get update"
      ],
      "execution_count": null,
      "outputs": []
    },
    {
      "cell_type": "code",
      "metadata": {
        "id": "FANwHDXk9Bkg",
        "colab_type": "code",
        "colab": {}
      },
      "source": [
        "!wget https://developer.nvidia.com/compute/cuda/9.2/Prod/local_installers/cuda-repo-ubuntu1604-9-2-local_9.2.88-1_amd64 -O cuda-repo-ubuntu1604-9-2-local_9.2.88-1_amd64.deb\n",
        "!dpkg -i cuda-repo-ubuntu1604-9-2-local_9.2.88-1_amd64.deb\n",
        "!apt-key add /var/cuda-repo-9-2-local/7fa2af80.pub\n",
        "!apt-get update\n",
        "!apt-get install cuda-9.2"
      ],
      "execution_count": null,
      "outputs": []
    },
    {
      "cell_type": "code",
      "metadata": {
        "id": "GaS0D8MY-cF_",
        "colab_type": "code",
        "colab": {}
      },
      "source": [
        "!nvcc --version\n"
      ],
      "execution_count": null,
      "outputs": []
    },
    {
      "cell_type": "code",
      "metadata": {
        "id": "6bi7t0QM-r46",
        "colab_type": "code",
        "colab": {}
      },
      "source": [
        "!pip install git+git://github.com/andreinechaev/nvcc4jupyter.git\n"
      ],
      "execution_count": null,
      "outputs": []
    },
    {
      "cell_type": "code",
      "metadata": {
        "id": "8pXvMHlO-7BV",
        "colab_type": "code",
        "colab": {}
      },
      "source": [
        "%load_ext nvcc_plugin\n"
      ],
      "execution_count": null,
      "outputs": []
    },
    {
      "cell_type": "markdown",
      "metadata": {
        "id": "3_8odoHmArJr",
        "colab_type": "text"
      },
      "source": [
        "#**Introduction** \n",
        "\n",
        "C++ (pronounced see plus plus) is a general purpose programming language that is free-form and compiled. It is regarded as an intermediate-level language, as it comprises both high-level and low-level language features. It provides imperative, object-oriented and generic programming features.\n",
        "\n",
        "C++ is one of the most popular programming languages and is implemented on a wide variety of hardware and operating system platforms. As an efficient performance driven programming language it is used in systems software, application software, device drivers, embedded software, high-performance server and client applications, and entertainment software such as video games. Various entities provide both open source and proprietary C++ compiler software, including the FSF, LLVM, Microsoft and Intel."
      ]
    },
    {
      "cell_type": "markdown",
      "metadata": {
        "id": "g6LT91r5_mdJ",
        "colab_type": "text"
      },
      "source": [
        "#1- **Hellow Words**\n",
        "Every C++ program uses libraries, which give the ability to execute necessary functions. For example, the most basic function called 'cout', which prints to the screen, is defined in the iostream header file.\n",
        "\n",
        "To add the ability to run the cout command to our program, we must add following include directive to our first line of the code:"
      ]
    },
    {
      "cell_type": "code",
      "metadata": {
        "id": "am4ZQ3cN_Bc_",
        "colab_type": "code",
        "colab": {}
      },
      "source": [
        "%%cu\n",
        "#include <iostream>\n",
        "using namespace std;\n",
        "\n",
        "int main() {\n",
        "  cout << \"Goodbye, World!\" << std::endl;\n",
        "  return 0;\n",
        "}"
      ],
      "execution_count": null,
      "outputs": []
    },
    {
      "cell_type": "code",
      "metadata": {
        "id": "qWkgOluKkQHf",
        "colab_type": "code",
        "colab": {
          "base_uri": "https://localhost:8080/",
          "height": 35
        },
        "outputId": "a9f9bbf1-b62b-44b8-c805-8377d84f5000"
      },
      "source": [
        "%%cu\n",
        "#include <iostream>\n",
        "using namespace std;\n",
        "\n",
        "int main() {\n",
        "  cout << \"Goodbye, World!\" << std::endl;\n",
        "  return 0;\n",
        "}"
      ],
      "execution_count": 4,
      "outputs": [
        {
          "output_type": "stream",
          "text": [
            "UsageError: Cell magic `%%cu` not found.\n"
          ],
          "name": "stderr"
        }
      ]
    },
    {
      "cell_type": "code",
      "metadata": {
        "id": "yq7QewVgKww2",
        "colab_type": "code",
        "colab": {}
      },
      "source": [
        "\n"
      ],
      "execution_count": null,
      "outputs": []
    },
    {
      "cell_type": "markdown",
      "metadata": {
        "id": "BYz7t5-DFgLd",
        "colab_type": "text"
      },
      "source": [
        "#2-**Variable and types** \n",
        "\n",
        "**Data types**\n",
        "\n",
        "C++ provides a rich set of built-in as well as user defined data types. Following table lists down seven basic C++ data types:\n",
        "\n",
        "**Built-in**\n",
        "- Boolean - boolean - either true or false\n",
        "- Integers - whole numbers which can be both positive and negative. Defined using char, int.\n",
        "- Floating point numbers - real numbers (numbers with - fractions). Defined using float and double.\n",
        "Valueless using the void keyword\n",
        "Wide character using the wchar_t keyword\n",
        "\n",
        "The different types of variables define their bounds. A char can range only from -128 to 127, whereas a long can range from -9,223,372,036,854,775,808 to 9,223,372,036,854,775,807. This is because a char is represented using only 8 bits of information whereas long uses 64 bits of information.\n",
        "\n",
        "**Type Modifiers**\n",
        "The above types can be modified using the following type modifiers: signed and unsigned short and long\n",
        "\n",
        "**User defined**\n",
        "- Structures - struct will be explained later, in the Structures section.\n",
        "- Classes - class will be covered later, in the Classes section\n",
        "\n",
        "C++ allows an array of characters to define strings. It also provides an extensive string library for manipulating strings and will be explained in the Strings section.\n",
        "\n",
        "**Typdefs**\n",
        "Typedefs allow for creating new names (think of them as aliases) for existing types. Following is the simple syntax to define a new type using typedef:\n",
        "\n",
        "**Enumerated types**\n",
        "\n",
        "To create an enumeration requires the use of the keyword enum. The general form of an enumeration type is:\n",
        "\n",
        "enum enum-name { list of names } var-list;\n",
        "Above, the enum-name is the enumeration's type name. The list of names is comma separated.\n",
        "\n",
        "For example, the following code defines an enumeration of colors called colors and the variable a_colour of type color. Finally, a_colour is assigned the value \"green\".\n",
        "\n",
        "enum colour {red, green, blue} a_colour, another_colour;\n",
        "a_colour = green;  // a_colour will be assigned value of '1'\n",
        "\n",
        "**Defining variables**\n",
        "For numbers, we will usually use the type int, which an integer in the size of a \"word\" the default number size of the machine which your program is compiled on. On most computers today, it is a 32-bit number, which means the number can range from -2,147,483,648 to 2,147,483,647 (same as long).\n",
        "\n",
        "To define the variables foo and bar, we need to use the following syntax:\n",
        "\n",
        "int foo;\n",
        "int bar = 1;\n",
        "The variable foo can be used, but since we did not initialize it, we don't know what's in it. The variable bar contains the number 1.\n",
        "\n",
        "Now, we can do some math. Assuming a, b, c, d, and e are variables, we can simply use plus, minus and multiplication operators in the following notation, and assign a new value to a:\n",
        "\n",
        "int a = 0, b = 1, c = 2, d = 3, e = 4;\n",
        "a = b - c + d * e;\n",
        "cout << a << endl; // will print 1-2+3*4 = 11\n",
        "\n"
      ]
    },
    {
      "cell_type": "markdown",
      "metadata": {
        "id": "zyb9GRJPAFl4",
        "colab_type": "text"
      },
      "source": [
        "#**References**\n",
        "How to Run CUDA C or C++ on Jupyter (Google Colab)\n",
        "https://www.wikihow.com/Run-CUDA-C-or-C%2B%2B-on-Jupyter-(Google-Colab)\n",
        "\n",
        "Welcome\n",
        "https://www.learn-cpp.org/"
      ]
    }
  ]
}